{
 "cells": [
  {
   "cell_type": "code",
   "execution_count": 1,
   "id": "9c1f5944",
   "metadata": {},
   "outputs": [],
   "source": [
    "import pandas as pd\n",
    "import numpy as np\n",
    "import math\n",
    "import json\n",
    "import seaborn as sns\n",
    "import datetime\n",
    "import matplotlib.pyplot as plt\n",
    "import plotly.express as px\n",
    "%matplotlib inline\n",
    "\n",
    "import warnings \n",
    "\n",
    "from sklearn.preprocessing import MultiLabelBinarizer\n",
    "from sklearn.preprocessing import MinMaxScaler\n",
    "\n",
    "from sklearn.cluster import KMeans\n",
    "\n",
    "from sklearn.preprocessing import LabelEncoder\n",
    "from sklearn import metrics\n",
    "\n",
    "from yellowbrick.cluster.elbow import kelbow_visualizer\n",
    "\n",
    "warnings.filterwarnings(\"ignore\")"
   ]
  },
  {
   "cell_type": "code",
   "execution_count": 2,
   "id": "9ae90f5f",
   "metadata": {},
   "outputs": [],
   "source": [
    "portfolio = pd.read_json('portfolio.json', orient='records', lines=True)\n",
    "profile = pd.read_json('profile.json', orient='records', lines=True)\n",
    "transcript = pd.read_json('transcript.json', orient='records', lines=True)"
   ]
  },
  {
   "cell_type": "markdown",
   "id": "becb8b77",
   "metadata": {},
   "source": [
    "# Data Cleaning "
   ]
  },
  {
   "cell_type": "code",
   "execution_count": 3,
   "id": "fab08f5a",
   "metadata": {},
   "outputs": [
    {
     "data": {
      "text/html": [
       "<div>\n",
       "<style scoped>\n",
       "    .dataframe tbody tr th:only-of-type {\n",
       "        vertical-align: middle;\n",
       "    }\n",
       "\n",
       "    .dataframe tbody tr th {\n",
       "        vertical-align: top;\n",
       "    }\n",
       "\n",
       "    .dataframe thead th {\n",
       "        text-align: right;\n",
       "    }\n",
       "</style>\n",
       "<table border=\"1\" class=\"dataframe\">\n",
       "  <thead>\n",
       "    <tr style=\"text-align: right;\">\n",
       "      <th></th>\n",
       "      <th>reward</th>\n",
       "      <th>channels</th>\n",
       "      <th>difficulty</th>\n",
       "      <th>duration</th>\n",
       "      <th>offer_type</th>\n",
       "      <th>id</th>\n",
       "    </tr>\n",
       "  </thead>\n",
       "  <tbody>\n",
       "    <tr>\n",
       "      <th>0</th>\n",
       "      <td>10</td>\n",
       "      <td>[email, mobile, social]</td>\n",
       "      <td>10</td>\n",
       "      <td>7</td>\n",
       "      <td>bogo</td>\n",
       "      <td>ae264e3637204a6fb9bb56bc8210ddfd</td>\n",
       "    </tr>\n",
       "    <tr>\n",
       "      <th>1</th>\n",
       "      <td>10</td>\n",
       "      <td>[web, email, mobile, social]</td>\n",
       "      <td>10</td>\n",
       "      <td>5</td>\n",
       "      <td>bogo</td>\n",
       "      <td>4d5c57ea9a6940dd891ad53e9dbe8da0</td>\n",
       "    </tr>\n",
       "    <tr>\n",
       "      <th>2</th>\n",
       "      <td>0</td>\n",
       "      <td>[web, email, mobile]</td>\n",
       "      <td>0</td>\n",
       "      <td>4</td>\n",
       "      <td>informational</td>\n",
       "      <td>3f207df678b143eea3cee63160fa8bed</td>\n",
       "    </tr>\n",
       "    <tr>\n",
       "      <th>3</th>\n",
       "      <td>5</td>\n",
       "      <td>[web, email, mobile]</td>\n",
       "      <td>5</td>\n",
       "      <td>7</td>\n",
       "      <td>bogo</td>\n",
       "      <td>9b98b8c7a33c4b65b9aebfe6a799e6d9</td>\n",
       "    </tr>\n",
       "    <tr>\n",
       "      <th>4</th>\n",
       "      <td>5</td>\n",
       "      <td>[web, email]</td>\n",
       "      <td>20</td>\n",
       "      <td>10</td>\n",
       "      <td>discount</td>\n",
       "      <td>0b1e1539f2cc45b7b9fa7c272da2e1d7</td>\n",
       "    </tr>\n",
       "  </tbody>\n",
       "</table>\n",
       "</div>"
      ],
      "text/plain": [
       "   reward                      channels  difficulty  duration     offer_type  \\\n",
       "0      10       [email, mobile, social]          10         7           bogo   \n",
       "1      10  [web, email, mobile, social]          10         5           bogo   \n",
       "2       0          [web, email, mobile]           0         4  informational   \n",
       "3       5          [web, email, mobile]           5         7           bogo   \n",
       "4       5                  [web, email]          20        10       discount   \n",
       "\n",
       "                                 id  \n",
       "0  ae264e3637204a6fb9bb56bc8210ddfd  \n",
       "1  4d5c57ea9a6940dd891ad53e9dbe8da0  \n",
       "2  3f207df678b143eea3cee63160fa8bed  \n",
       "3  9b98b8c7a33c4b65b9aebfe6a799e6d9  \n",
       "4  0b1e1539f2cc45b7b9fa7c272da2e1d7  "
      ]
     },
     "execution_count": 3,
     "metadata": {},
     "output_type": "execute_result"
    }
   ],
   "source": [
    "portfolio.head()"
   ]
  },
  {
   "cell_type": "code",
   "execution_count": 4,
   "id": "1a06ea15",
   "metadata": {},
   "outputs": [
    {
     "data": {
      "text/plain": [
       "reward        0\n",
       "channels      0\n",
       "difficulty    0\n",
       "duration      0\n",
       "offer_type    0\n",
       "id            0\n",
       "dtype: int64"
      ]
     },
     "execution_count": 4,
     "metadata": {},
     "output_type": "execute_result"
    }
   ],
   "source": [
    "# check for null values\n",
    "\n",
    "portfolio.isnull().sum()"
   ]
  },
  {
   "cell_type": "code",
   "execution_count": 5,
   "id": "358433a5",
   "metadata": {},
   "outputs": [
    {
     "name": "stdout",
     "output_type": "stream",
     "text": [
      "<class 'pandas.core.frame.DataFrame'>\n",
      "RangeIndex: 10 entries, 0 to 9\n",
      "Data columns (total 6 columns):\n",
      " #   Column      Non-Null Count  Dtype \n",
      "---  ------      --------------  ----- \n",
      " 0   reward      10 non-null     int64 \n",
      " 1   channels    10 non-null     object\n",
      " 2   difficulty  10 non-null     int64 \n",
      " 3   duration    10 non-null     int64 \n",
      " 4   offer_type  10 non-null     object\n",
      " 5   id          10 non-null     object\n",
      "dtypes: int64(3), object(3)\n",
      "memory usage: 608.0+ bytes\n"
     ]
    }
   ],
   "source": [
    "portfolio.info()"
   ]
  },
  {
   "cell_type": "code",
   "execution_count": 6,
   "id": "a91889b6",
   "metadata": {},
   "outputs": [],
   "source": [
    "# create alias for each offer type\n",
    "\n",
    "new_col = {'offer_name' : ['of_1', 'of_2','of_3','of_4','of_5','of_6','of_7','of_8','of_9','of_10' ]}\n",
    "portfolio['offer_name'] = pd.DataFrame(new_col)"
   ]
  },
  {
   "cell_type": "code",
   "execution_count": 7,
   "id": "e7be65ad",
   "metadata": {},
   "outputs": [
    {
     "data": {
      "text/html": [
       "<div>\n",
       "<style scoped>\n",
       "    .dataframe tbody tr th:only-of-type {\n",
       "        vertical-align: middle;\n",
       "    }\n",
       "\n",
       "    .dataframe tbody tr th {\n",
       "        vertical-align: top;\n",
       "    }\n",
       "\n",
       "    .dataframe thead th {\n",
       "        text-align: right;\n",
       "    }\n",
       "</style>\n",
       "<table border=\"1\" class=\"dataframe\">\n",
       "  <thead>\n",
       "    <tr style=\"text-align: right;\">\n",
       "      <th></th>\n",
       "      <th>reward</th>\n",
       "      <th>channels</th>\n",
       "      <th>difficulty</th>\n",
       "      <th>duration</th>\n",
       "      <th>offer_type</th>\n",
       "      <th>id</th>\n",
       "      <th>offer_name</th>\n",
       "    </tr>\n",
       "  </thead>\n",
       "  <tbody>\n",
       "    <tr>\n",
       "      <th>0</th>\n",
       "      <td>10</td>\n",
       "      <td>[email, mobile, social]</td>\n",
       "      <td>10</td>\n",
       "      <td>7</td>\n",
       "      <td>bogo</td>\n",
       "      <td>ae264e3637204a6fb9bb56bc8210ddfd</td>\n",
       "      <td>of_1</td>\n",
       "    </tr>\n",
       "    <tr>\n",
       "      <th>1</th>\n",
       "      <td>10</td>\n",
       "      <td>[web, email, mobile, social]</td>\n",
       "      <td>10</td>\n",
       "      <td>5</td>\n",
       "      <td>bogo</td>\n",
       "      <td>4d5c57ea9a6940dd891ad53e9dbe8da0</td>\n",
       "      <td>of_2</td>\n",
       "    </tr>\n",
       "    <tr>\n",
       "      <th>2</th>\n",
       "      <td>0</td>\n",
       "      <td>[web, email, mobile]</td>\n",
       "      <td>0</td>\n",
       "      <td>4</td>\n",
       "      <td>informational</td>\n",
       "      <td>3f207df678b143eea3cee63160fa8bed</td>\n",
       "      <td>of_3</td>\n",
       "    </tr>\n",
       "    <tr>\n",
       "      <th>3</th>\n",
       "      <td>5</td>\n",
       "      <td>[web, email, mobile]</td>\n",
       "      <td>5</td>\n",
       "      <td>7</td>\n",
       "      <td>bogo</td>\n",
       "      <td>9b98b8c7a33c4b65b9aebfe6a799e6d9</td>\n",
       "      <td>of_4</td>\n",
       "    </tr>\n",
       "    <tr>\n",
       "      <th>4</th>\n",
       "      <td>5</td>\n",
       "      <td>[web, email]</td>\n",
       "      <td>20</td>\n",
       "      <td>10</td>\n",
       "      <td>discount</td>\n",
       "      <td>0b1e1539f2cc45b7b9fa7c272da2e1d7</td>\n",
       "      <td>of_5</td>\n",
       "    </tr>\n",
       "  </tbody>\n",
       "</table>\n",
       "</div>"
      ],
      "text/plain": [
       "   reward                      channels  difficulty  duration     offer_type  \\\n",
       "0      10       [email, mobile, social]          10         7           bogo   \n",
       "1      10  [web, email, mobile, social]          10         5           bogo   \n",
       "2       0          [web, email, mobile]           0         4  informational   \n",
       "3       5          [web, email, mobile]           5         7           bogo   \n",
       "4       5                  [web, email]          20        10       discount   \n",
       "\n",
       "                                 id offer_name  \n",
       "0  ae264e3637204a6fb9bb56bc8210ddfd       of_1  \n",
       "1  4d5c57ea9a6940dd891ad53e9dbe8da0       of_2  \n",
       "2  3f207df678b143eea3cee63160fa8bed       of_3  \n",
       "3  9b98b8c7a33c4b65b9aebfe6a799e6d9       of_4  \n",
       "4  0b1e1539f2cc45b7b9fa7c272da2e1d7       of_5  "
      ]
     },
     "execution_count": 7,
     "metadata": {},
     "output_type": "execute_result"
    }
   ],
   "source": [
    "portfolio.head()"
   ]
  },
  {
   "cell_type": "code",
   "execution_count": 8,
   "id": "3ad07a9f",
   "metadata": {},
   "outputs": [
    {
     "data": {
      "text/html": [
       "<div>\n",
       "<style scoped>\n",
       "    .dataframe tbody tr th:only-of-type {\n",
       "        vertical-align: middle;\n",
       "    }\n",
       "\n",
       "    .dataframe tbody tr th {\n",
       "        vertical-align: top;\n",
       "    }\n",
       "\n",
       "    .dataframe thead th {\n",
       "        text-align: right;\n",
       "    }\n",
       "</style>\n",
       "<table border=\"1\" class=\"dataframe\">\n",
       "  <thead>\n",
       "    <tr style=\"text-align: right;\">\n",
       "      <th></th>\n",
       "      <th>gender</th>\n",
       "      <th>age</th>\n",
       "      <th>id</th>\n",
       "      <th>became_member_on</th>\n",
       "      <th>income</th>\n",
       "    </tr>\n",
       "  </thead>\n",
       "  <tbody>\n",
       "    <tr>\n",
       "      <th>0</th>\n",
       "      <td>None</td>\n",
       "      <td>118</td>\n",
       "      <td>68be06ca386d4c31939f3a4f0e3dd783</td>\n",
       "      <td>20170212</td>\n",
       "      <td>NaN</td>\n",
       "    </tr>\n",
       "    <tr>\n",
       "      <th>1</th>\n",
       "      <td>F</td>\n",
       "      <td>55</td>\n",
       "      <td>0610b486422d4921ae7d2bf64640c50b</td>\n",
       "      <td>20170715</td>\n",
       "      <td>112000.0</td>\n",
       "    </tr>\n",
       "    <tr>\n",
       "      <th>2</th>\n",
       "      <td>None</td>\n",
       "      <td>118</td>\n",
       "      <td>38fe809add3b4fcf9315a9694bb96ff5</td>\n",
       "      <td>20180712</td>\n",
       "      <td>NaN</td>\n",
       "    </tr>\n",
       "    <tr>\n",
       "      <th>3</th>\n",
       "      <td>F</td>\n",
       "      <td>75</td>\n",
       "      <td>78afa995795e4d85b5d9ceeca43f5fef</td>\n",
       "      <td>20170509</td>\n",
       "      <td>100000.0</td>\n",
       "    </tr>\n",
       "    <tr>\n",
       "      <th>4</th>\n",
       "      <td>None</td>\n",
       "      <td>118</td>\n",
       "      <td>a03223e636434f42ac4c3df47e8bac43</td>\n",
       "      <td>20170804</td>\n",
       "      <td>NaN</td>\n",
       "    </tr>\n",
       "  </tbody>\n",
       "</table>\n",
       "</div>"
      ],
      "text/plain": [
       "  gender  age                                id  became_member_on    income\n",
       "0   None  118  68be06ca386d4c31939f3a4f0e3dd783          20170212       NaN\n",
       "1      F   55  0610b486422d4921ae7d2bf64640c50b          20170715  112000.0\n",
       "2   None  118  38fe809add3b4fcf9315a9694bb96ff5          20180712       NaN\n",
       "3      F   75  78afa995795e4d85b5d9ceeca43f5fef          20170509  100000.0\n",
       "4   None  118  a03223e636434f42ac4c3df47e8bac43          20170804       NaN"
      ]
     },
     "execution_count": 8,
     "metadata": {},
     "output_type": "execute_result"
    }
   ],
   "source": [
    "profile.head()"
   ]
  },
  {
   "cell_type": "code",
   "execution_count": 9,
   "id": "812cdb80",
   "metadata": {},
   "outputs": [
    {
     "data": {
      "text/plain": [
       "gender              2175\n",
       "age                    0\n",
       "id                     0\n",
       "became_member_on       0\n",
       "income              2175\n",
       "dtype: int64"
      ]
     },
     "execution_count": 9,
     "metadata": {},
     "output_type": "execute_result"
    }
   ],
   "source": [
    "# check for null values \n",
    "\n",
    "profile.isnull().sum()"
   ]
  },
  {
   "cell_type": "code",
   "execution_count": 10,
   "id": "d1efc009",
   "metadata": {},
   "outputs": [],
   "source": [
    "# check if null values in gender and income are the same records\n",
    "\n",
    "null_gender = profile[profile['gender'].isnull()]\n",
    "null_income = profile[profile['income'].isnull()]"
   ]
  },
  {
   "cell_type": "code",
   "execution_count": 11,
   "id": "e7fcfde7",
   "metadata": {},
   "outputs": [
    {
     "data": {
      "text/plain": [
       "2175"
      ]
     },
     "execution_count": 11,
     "metadata": {},
     "output_type": "execute_result"
    }
   ],
   "source": [
    "np.sum(null_gender['id'] == null_income['id'])"
   ]
  },
  {
   "cell_type": "code",
   "execution_count": 12,
   "id": "ce56d804",
   "metadata": {},
   "outputs": [],
   "source": [
    "# drop the null values \n",
    "\n",
    "profile = profile.dropna(subset=['gender','income'])\n",
    "profile = profile.reset_index(drop=True)"
   ]
  },
  {
   "cell_type": "code",
   "execution_count": 13,
   "id": "850e0416",
   "metadata": {},
   "outputs": [
    {
     "data": {
      "text/plain": [
       "gender              0\n",
       "age                 0\n",
       "id                  0\n",
       "became_member_on    0\n",
       "income              0\n",
       "dtype: int64"
      ]
     },
     "execution_count": 13,
     "metadata": {},
     "output_type": "execute_result"
    }
   ],
   "source": [
    "profile.isnull().sum()"
   ]
  },
  {
   "cell_type": "code",
   "execution_count": 14,
   "id": "cb8a1442",
   "metadata": {},
   "outputs": [],
   "source": [
    "# parse date col\n",
    "\n",
    "profile['became_member_on'] = pd.to_datetime(profile['became_member_on'], format='%Y%m%d')"
   ]
  },
  {
   "cell_type": "code",
   "execution_count": 15,
   "id": "e51c023f",
   "metadata": {},
   "outputs": [],
   "source": [
    "#Group the Salary ranges\n",
    "sal_bins = ['<$50K','$(50,000-74,999)','$(75,000-99,999)', '>$100K']\n",
    "\n",
    "profile['customer_income_range'] = pd.cut(profile['income'], bins=[1, 49999, 74999, 99999, 150000] , \n",
    "                                  labels=sal_bins, include_lowest=True)\n"
   ]
  },
  {
   "cell_type": "code",
   "execution_count": 16,
   "id": "69222b8c",
   "metadata": {},
   "outputs": [],
   "source": [
    "#Group the age ranges\n",
    "age_bins = ['18–25', '26-43', '44-56','57-75', '76+']\n",
    "profile['age_group'] = pd.cut(profile['age'], bins=[18, 26, 44, 57, 76, 101] , \n",
    "                                  labels=age_bins, include_lowest=True)\n",
    "\n"
   ]
  },
  {
   "cell_type": "code",
   "execution_count": 17,
   "id": "f825b77b",
   "metadata": {},
   "outputs": [
    {
     "data": {
      "text/html": [
       "<div>\n",
       "<style scoped>\n",
       "    .dataframe tbody tr th:only-of-type {\n",
       "        vertical-align: middle;\n",
       "    }\n",
       "\n",
       "    .dataframe tbody tr th {\n",
       "        vertical-align: top;\n",
       "    }\n",
       "\n",
       "    .dataframe thead th {\n",
       "        text-align: right;\n",
       "    }\n",
       "</style>\n",
       "<table border=\"1\" class=\"dataframe\">\n",
       "  <thead>\n",
       "    <tr style=\"text-align: right;\">\n",
       "      <th></th>\n",
       "      <th>person</th>\n",
       "      <th>event</th>\n",
       "      <th>value</th>\n",
       "      <th>time</th>\n",
       "    </tr>\n",
       "  </thead>\n",
       "  <tbody>\n",
       "    <tr>\n",
       "      <th>0</th>\n",
       "      <td>78afa995795e4d85b5d9ceeca43f5fef</td>\n",
       "      <td>offer received</td>\n",
       "      <td>{'offer id': '9b98b8c7a33c4b65b9aebfe6a799e6d9'}</td>\n",
       "      <td>0</td>\n",
       "    </tr>\n",
       "    <tr>\n",
       "      <th>1</th>\n",
       "      <td>a03223e636434f42ac4c3df47e8bac43</td>\n",
       "      <td>offer received</td>\n",
       "      <td>{'offer id': '0b1e1539f2cc45b7b9fa7c272da2e1d7'}</td>\n",
       "      <td>0</td>\n",
       "    </tr>\n",
       "    <tr>\n",
       "      <th>2</th>\n",
       "      <td>e2127556f4f64592b11af22de27a7932</td>\n",
       "      <td>offer received</td>\n",
       "      <td>{'offer id': '2906b810c7d4411798c6938adc9daaa5'}</td>\n",
       "      <td>0</td>\n",
       "    </tr>\n",
       "    <tr>\n",
       "      <th>3</th>\n",
       "      <td>8ec6ce2a7e7949b1bf142def7d0e0586</td>\n",
       "      <td>offer received</td>\n",
       "      <td>{'offer id': 'fafdcd668e3743c1bb461111dcafc2a4'}</td>\n",
       "      <td>0</td>\n",
       "    </tr>\n",
       "    <tr>\n",
       "      <th>4</th>\n",
       "      <td>68617ca6246f4fbc85e91a2a49552598</td>\n",
       "      <td>offer received</td>\n",
       "      <td>{'offer id': '4d5c57ea9a6940dd891ad53e9dbe8da0'}</td>\n",
       "      <td>0</td>\n",
       "    </tr>\n",
       "  </tbody>\n",
       "</table>\n",
       "</div>"
      ],
      "text/plain": [
       "                             person           event  \\\n",
       "0  78afa995795e4d85b5d9ceeca43f5fef  offer received   \n",
       "1  a03223e636434f42ac4c3df47e8bac43  offer received   \n",
       "2  e2127556f4f64592b11af22de27a7932  offer received   \n",
       "3  8ec6ce2a7e7949b1bf142def7d0e0586  offer received   \n",
       "4  68617ca6246f4fbc85e91a2a49552598  offer received   \n",
       "\n",
       "                                              value  time  \n",
       "0  {'offer id': '9b98b8c7a33c4b65b9aebfe6a799e6d9'}     0  \n",
       "1  {'offer id': '0b1e1539f2cc45b7b9fa7c272da2e1d7'}     0  \n",
       "2  {'offer id': '2906b810c7d4411798c6938adc9daaa5'}     0  \n",
       "3  {'offer id': 'fafdcd668e3743c1bb461111dcafc2a4'}     0  \n",
       "4  {'offer id': '4d5c57ea9a6940dd891ad53e9dbe8da0'}     0  "
      ]
     },
     "execution_count": 17,
     "metadata": {},
     "output_type": "execute_result"
    }
   ],
   "source": [
    "transcript.head()"
   ]
  },
  {
   "cell_type": "code",
   "execution_count": 18,
   "id": "29626c3e",
   "metadata": {},
   "outputs": [
    {
     "data": {
      "text/plain": [
       "person    0\n",
       "event     0\n",
       "value     0\n",
       "time      0\n",
       "dtype: int64"
      ]
     },
     "execution_count": 18,
     "metadata": {},
     "output_type": "execute_result"
    }
   ],
   "source": [
    "transcript.isnull().sum()"
   ]
  },
  {
   "cell_type": "code",
   "execution_count": 19,
   "id": "55404f21",
   "metadata": {},
   "outputs": [],
   "source": [
    "transcript['offer_id'] =\\\n",
    "transcript['value'].apply(lambda elem: list(elem.values())[0])"
   ]
  },
  {
   "cell_type": "code",
   "execution_count": 20,
   "id": "dfc3cef8",
   "metadata": {},
   "outputs": [
    {
     "data": {
      "text/html": [
       "<div>\n",
       "<style scoped>\n",
       "    .dataframe tbody tr th:only-of-type {\n",
       "        vertical-align: middle;\n",
       "    }\n",
       "\n",
       "    .dataframe tbody tr th {\n",
       "        vertical-align: top;\n",
       "    }\n",
       "\n",
       "    .dataframe thead th {\n",
       "        text-align: right;\n",
       "    }\n",
       "</style>\n",
       "<table border=\"1\" class=\"dataframe\">\n",
       "  <thead>\n",
       "    <tr style=\"text-align: right;\">\n",
       "      <th></th>\n",
       "      <th>reward</th>\n",
       "      <th>channels</th>\n",
       "      <th>difficulty</th>\n",
       "      <th>duration</th>\n",
       "      <th>offer_type</th>\n",
       "      <th>id</th>\n",
       "      <th>offer_name</th>\n",
       "    </tr>\n",
       "  </thead>\n",
       "  <tbody>\n",
       "    <tr>\n",
       "      <th>0</th>\n",
       "      <td>10</td>\n",
       "      <td>[email, mobile, social]</td>\n",
       "      <td>10</td>\n",
       "      <td>7</td>\n",
       "      <td>bogo</td>\n",
       "      <td>ae264e3637204a6fb9bb56bc8210ddfd</td>\n",
       "      <td>of_1</td>\n",
       "    </tr>\n",
       "    <tr>\n",
       "      <th>1</th>\n",
       "      <td>10</td>\n",
       "      <td>[web, email, mobile, social]</td>\n",
       "      <td>10</td>\n",
       "      <td>5</td>\n",
       "      <td>bogo</td>\n",
       "      <td>4d5c57ea9a6940dd891ad53e9dbe8da0</td>\n",
       "      <td>of_2</td>\n",
       "    </tr>\n",
       "    <tr>\n",
       "      <th>2</th>\n",
       "      <td>0</td>\n",
       "      <td>[web, email, mobile]</td>\n",
       "      <td>0</td>\n",
       "      <td>4</td>\n",
       "      <td>informational</td>\n",
       "      <td>3f207df678b143eea3cee63160fa8bed</td>\n",
       "      <td>of_3</td>\n",
       "    </tr>\n",
       "    <tr>\n",
       "      <th>3</th>\n",
       "      <td>5</td>\n",
       "      <td>[web, email, mobile]</td>\n",
       "      <td>5</td>\n",
       "      <td>7</td>\n",
       "      <td>bogo</td>\n",
       "      <td>9b98b8c7a33c4b65b9aebfe6a799e6d9</td>\n",
       "      <td>of_4</td>\n",
       "    </tr>\n",
       "    <tr>\n",
       "      <th>4</th>\n",
       "      <td>5</td>\n",
       "      <td>[web, email]</td>\n",
       "      <td>20</td>\n",
       "      <td>10</td>\n",
       "      <td>discount</td>\n",
       "      <td>0b1e1539f2cc45b7b9fa7c272da2e1d7</td>\n",
       "      <td>of_5</td>\n",
       "    </tr>\n",
       "  </tbody>\n",
       "</table>\n",
       "</div>"
      ],
      "text/plain": [
       "   reward                      channels  difficulty  duration     offer_type  \\\n",
       "0      10       [email, mobile, social]          10         7           bogo   \n",
       "1      10  [web, email, mobile, social]          10         5           bogo   \n",
       "2       0          [web, email, mobile]           0         4  informational   \n",
       "3       5          [web, email, mobile]           5         7           bogo   \n",
       "4       5                  [web, email]          20        10       discount   \n",
       "\n",
       "                                 id offer_name  \n",
       "0  ae264e3637204a6fb9bb56bc8210ddfd       of_1  \n",
       "1  4d5c57ea9a6940dd891ad53e9dbe8da0       of_2  \n",
       "2  3f207df678b143eea3cee63160fa8bed       of_3  \n",
       "3  9b98b8c7a33c4b65b9aebfe6a799e6d9       of_4  \n",
       "4  0b1e1539f2cc45b7b9fa7c272da2e1d7       of_5  "
      ]
     },
     "execution_count": 20,
     "metadata": {},
     "output_type": "execute_result"
    }
   ],
   "source": [
    "portfolio.head()"
   ]
  },
  {
   "cell_type": "code",
   "execution_count": 21,
   "id": "9b9bba8f",
   "metadata": {},
   "outputs": [
    {
     "data": {
      "text/html": [
       "<div>\n",
       "<style scoped>\n",
       "    .dataframe tbody tr th:only-of-type {\n",
       "        vertical-align: middle;\n",
       "    }\n",
       "\n",
       "    .dataframe tbody tr th {\n",
       "        vertical-align: top;\n",
       "    }\n",
       "\n",
       "    .dataframe thead th {\n",
       "        text-align: right;\n",
       "    }\n",
       "</style>\n",
       "<table border=\"1\" class=\"dataframe\">\n",
       "  <thead>\n",
       "    <tr style=\"text-align: right;\">\n",
       "      <th></th>\n",
       "      <th>gender</th>\n",
       "      <th>age</th>\n",
       "      <th>id</th>\n",
       "      <th>became_member_on</th>\n",
       "      <th>income</th>\n",
       "      <th>customer_income_range</th>\n",
       "      <th>age_group</th>\n",
       "    </tr>\n",
       "  </thead>\n",
       "  <tbody>\n",
       "    <tr>\n",
       "      <th>0</th>\n",
       "      <td>F</td>\n",
       "      <td>55</td>\n",
       "      <td>0610b486422d4921ae7d2bf64640c50b</td>\n",
       "      <td>2017-07-15</td>\n",
       "      <td>112000.0</td>\n",
       "      <td>&gt;$100K</td>\n",
       "      <td>44-56</td>\n",
       "    </tr>\n",
       "    <tr>\n",
       "      <th>1</th>\n",
       "      <td>F</td>\n",
       "      <td>75</td>\n",
       "      <td>78afa995795e4d85b5d9ceeca43f5fef</td>\n",
       "      <td>2017-05-09</td>\n",
       "      <td>100000.0</td>\n",
       "      <td>&gt;$100K</td>\n",
       "      <td>57-75</td>\n",
       "    </tr>\n",
       "    <tr>\n",
       "      <th>2</th>\n",
       "      <td>M</td>\n",
       "      <td>68</td>\n",
       "      <td>e2127556f4f64592b11af22de27a7932</td>\n",
       "      <td>2018-04-26</td>\n",
       "      <td>70000.0</td>\n",
       "      <td>$(50,000-74,999)</td>\n",
       "      <td>57-75</td>\n",
       "    </tr>\n",
       "    <tr>\n",
       "      <th>3</th>\n",
       "      <td>M</td>\n",
       "      <td>65</td>\n",
       "      <td>389bc3fa690240e798340f5a15918d5c</td>\n",
       "      <td>2018-02-09</td>\n",
       "      <td>53000.0</td>\n",
       "      <td>$(50,000-74,999)</td>\n",
       "      <td>57-75</td>\n",
       "    </tr>\n",
       "    <tr>\n",
       "      <th>4</th>\n",
       "      <td>M</td>\n",
       "      <td>58</td>\n",
       "      <td>2eeac8d8feae4a8cad5a6af0499a211d</td>\n",
       "      <td>2017-11-11</td>\n",
       "      <td>51000.0</td>\n",
       "      <td>$(50,000-74,999)</td>\n",
       "      <td>57-75</td>\n",
       "    </tr>\n",
       "  </tbody>\n",
       "</table>\n",
       "</div>"
      ],
      "text/plain": [
       "  gender  age                                id became_member_on    income  \\\n",
       "0      F   55  0610b486422d4921ae7d2bf64640c50b       2017-07-15  112000.0   \n",
       "1      F   75  78afa995795e4d85b5d9ceeca43f5fef       2017-05-09  100000.0   \n",
       "2      M   68  e2127556f4f64592b11af22de27a7932       2018-04-26   70000.0   \n",
       "3      M   65  389bc3fa690240e798340f5a15918d5c       2018-02-09   53000.0   \n",
       "4      M   58  2eeac8d8feae4a8cad5a6af0499a211d       2017-11-11   51000.0   \n",
       "\n",
       "  customer_income_range age_group  \n",
       "0                >$100K     44-56  \n",
       "1                >$100K     57-75  \n",
       "2      $(50,000-74,999)     57-75  \n",
       "3      $(50,000-74,999)     57-75  \n",
       "4      $(50,000-74,999)     57-75  "
      ]
     },
     "execution_count": 21,
     "metadata": {},
     "output_type": "execute_result"
    }
   ],
   "source": [
    "profile.head()"
   ]
  },
  {
   "cell_type": "code",
   "execution_count": 22,
   "id": "25b6b09a",
   "metadata": {},
   "outputs": [
    {
     "data": {
      "text/html": [
       "<div>\n",
       "<style scoped>\n",
       "    .dataframe tbody tr th:only-of-type {\n",
       "        vertical-align: middle;\n",
       "    }\n",
       "\n",
       "    .dataframe tbody tr th {\n",
       "        vertical-align: top;\n",
       "    }\n",
       "\n",
       "    .dataframe thead th {\n",
       "        text-align: right;\n",
       "    }\n",
       "</style>\n",
       "<table border=\"1\" class=\"dataframe\">\n",
       "  <thead>\n",
       "    <tr style=\"text-align: right;\">\n",
       "      <th></th>\n",
       "      <th>person</th>\n",
       "      <th>event</th>\n",
       "      <th>value</th>\n",
       "      <th>time</th>\n",
       "      <th>offer_id</th>\n",
       "    </tr>\n",
       "  </thead>\n",
       "  <tbody>\n",
       "    <tr>\n",
       "      <th>0</th>\n",
       "      <td>78afa995795e4d85b5d9ceeca43f5fef</td>\n",
       "      <td>offer received</td>\n",
       "      <td>{'offer id': '9b98b8c7a33c4b65b9aebfe6a799e6d9'}</td>\n",
       "      <td>0</td>\n",
       "      <td>9b98b8c7a33c4b65b9aebfe6a799e6d9</td>\n",
       "    </tr>\n",
       "    <tr>\n",
       "      <th>1</th>\n",
       "      <td>a03223e636434f42ac4c3df47e8bac43</td>\n",
       "      <td>offer received</td>\n",
       "      <td>{'offer id': '0b1e1539f2cc45b7b9fa7c272da2e1d7'}</td>\n",
       "      <td>0</td>\n",
       "      <td>0b1e1539f2cc45b7b9fa7c272da2e1d7</td>\n",
       "    </tr>\n",
       "    <tr>\n",
       "      <th>2</th>\n",
       "      <td>e2127556f4f64592b11af22de27a7932</td>\n",
       "      <td>offer received</td>\n",
       "      <td>{'offer id': '2906b810c7d4411798c6938adc9daaa5'}</td>\n",
       "      <td>0</td>\n",
       "      <td>2906b810c7d4411798c6938adc9daaa5</td>\n",
       "    </tr>\n",
       "    <tr>\n",
       "      <th>3</th>\n",
       "      <td>8ec6ce2a7e7949b1bf142def7d0e0586</td>\n",
       "      <td>offer received</td>\n",
       "      <td>{'offer id': 'fafdcd668e3743c1bb461111dcafc2a4'}</td>\n",
       "      <td>0</td>\n",
       "      <td>fafdcd668e3743c1bb461111dcafc2a4</td>\n",
       "    </tr>\n",
       "    <tr>\n",
       "      <th>4</th>\n",
       "      <td>68617ca6246f4fbc85e91a2a49552598</td>\n",
       "      <td>offer received</td>\n",
       "      <td>{'offer id': '4d5c57ea9a6940dd891ad53e9dbe8da0'}</td>\n",
       "      <td>0</td>\n",
       "      <td>4d5c57ea9a6940dd891ad53e9dbe8da0</td>\n",
       "    </tr>\n",
       "  </tbody>\n",
       "</table>\n",
       "</div>"
      ],
      "text/plain": [
       "                             person           event  \\\n",
       "0  78afa995795e4d85b5d9ceeca43f5fef  offer received   \n",
       "1  a03223e636434f42ac4c3df47e8bac43  offer received   \n",
       "2  e2127556f4f64592b11af22de27a7932  offer received   \n",
       "3  8ec6ce2a7e7949b1bf142def7d0e0586  offer received   \n",
       "4  68617ca6246f4fbc85e91a2a49552598  offer received   \n",
       "\n",
       "                                              value  time  \\\n",
       "0  {'offer id': '9b98b8c7a33c4b65b9aebfe6a799e6d9'}     0   \n",
       "1  {'offer id': '0b1e1539f2cc45b7b9fa7c272da2e1d7'}     0   \n",
       "2  {'offer id': '2906b810c7d4411798c6938adc9daaa5'}     0   \n",
       "3  {'offer id': 'fafdcd668e3743c1bb461111dcafc2a4'}     0   \n",
       "4  {'offer id': '4d5c57ea9a6940dd891ad53e9dbe8da0'}     0   \n",
       "\n",
       "                           offer_id  \n",
       "0  9b98b8c7a33c4b65b9aebfe6a799e6d9  \n",
       "1  0b1e1539f2cc45b7b9fa7c272da2e1d7  \n",
       "2  2906b810c7d4411798c6938adc9daaa5  \n",
       "3  fafdcd668e3743c1bb461111dcafc2a4  \n",
       "4  4d5c57ea9a6940dd891ad53e9dbe8da0  "
      ]
     },
     "execution_count": 22,
     "metadata": {},
     "output_type": "execute_result"
    }
   ],
   "source": [
    "transcript.head()"
   ]
  },
  {
   "cell_type": "markdown",
   "id": "fd01142e",
   "metadata": {},
   "source": [
    "# EDA"
   ]
  },
  {
   "cell_type": "markdown",
   "id": "55fe8475",
   "metadata": {},
   "source": [
    "### profile"
   ]
  },
  {
   "cell_type": "markdown",
   "id": "a152dacb",
   "metadata": {},
   "source": [
    "#### Gender"
   ]
  },
  {
   "cell_type": "code",
   "execution_count": 23,
   "id": "d889085b",
   "metadata": {},
   "outputs": [
    {
     "data": {
      "image/png": "[encoded data removed]",
      "text/plain": [
       "<Figure size 360x360 with 1 Axes>"
      ]
     },
     "metadata": {},
     "output_type": "display_data"
    }
   ],
   "source": [
    "import matplotlib.pyplot as plt\n",
    "\n",
    "gender_counts = profile['gender'].value_counts()\n",
    "labels = ['Male', 'Female', 'Other']\n",
    "\n",
    "plt.figure(figsize=(5, 5))\n",
    "plt.pie(gender_counts, labels=labels, autopct='%1.1f%%')\n",
    "plt.title('Gender', fontsize=16)\n",
    "plt.show()\n"
   ]
  },
  {
   "cell_type": "markdown",
   "id": "1dc37036",
   "metadata": {},
   "source": [
    "#### Age Distribution"
   ]
  },
  {
   "cell_type": "code",
   "execution_count": 24,
   "id": "fb368a40",
   "metadata": {},
   "outputs": [
    {
     "data": {
      "image/png": "[encoded data removed]",
      "text/plain": [
       "<Figure size 360x216 with 1 Axes>"
      ]
     },
     "metadata": {},
     "output_type": "display_data"
    }
   ],
   "source": [
    "plt.figure(figsize=(5, 3))\n",
    "sns.boxplot(data = profile, x = 'age')\n",
    "plt.grid(False)\n",
    "ax = plt.gca()\n",
    "ax.spines['right'].set_visible(False)\n",
    "ax.spines['top'].set_visible(False)\n",
    "ax.spines['left'].set_visible(False)\n",
    "ax.spines['bottom'].set_visible(False)"
   ]
  },
  {
   "cell_type": "markdown",
   "id": "89fe6ac0",
   "metadata": {},
   "source": [
    "#### Age Group Binning"
   ]
  },
  {
   "cell_type": "code",
   "execution_count": 25,
   "id": "1779dbcb",
   "metadata": {},
   "outputs": [
    {
     "data": {
      "image/png": "[encoded data removed]",
      "text/plain": [
       "<Figure size 432x432 with 1 Axes>"
      ]
     },
     "metadata": {},
     "output_type": "display_data"
    }
   ],
   "source": [
    "age_group_counts = profile['age_group'].value_counts()\n",
    "\n",
    "# Calculate the percentage for each gender category\n",
    "total_count = age_group_counts.sum()\n",
    "age_percentage = (age_group_counts / total_count) * 100\n",
    "\n",
    "# Create a bar chart\n",
    "plt.figure(figsize=(6, 6))\n",
    "bars = plt.bar(age_group_counts.index, age_group_counts)\n",
    "plt.xlabel('Age')\n",
    "plt.ylabel('Count')\n",
    "plt.title('Age group Distribution')\n",
    "\n",
    "# Add data labels on top of each bar showing the percentage\n",
    "for bar, percentage in zip(bars, age_percentage):\n",
    "    height = bar.get_height()\n",
    "    plt.annotate(f'{percentage:.1f}%', xy=(bar.get_x() + bar.get_width() / 2, height),\n",
    "                 xytext=(0, 3), textcoords='offset points', ha='center', va='bottom')\n",
    "plt.grid(False)\n",
    "ax = plt.gca()\n",
    "ax.spines['right'].set_visible(False)\n",
    "ax.spines['top'].set_visible(False)\n",
    "ax.spines['left'].set_visible(False)\n",
    "ax.spines['bottom'].set_visible(False)\n",
    "plt.show()"
   ]
  },
  {
   "cell_type": "markdown",
   "id": "a9820d3e",
   "metadata": {},
   "source": [
    "#### Income Distribution "
   ]
  },
  {
   "cell_type": "code",
   "execution_count": 26,
   "id": "0f0ce925",
   "metadata": {},
   "outputs": [
    {
     "data": {
      "image/png": "[encoded data removed]",
      "text/plain": [
       "<Figure size 360x216 with 1 Axes>"
      ]
     },
     "metadata": {},
     "output_type": "display_data"
    }
   ],
   "source": [
    "plt.figure(figsize = (5,3))\n",
    "sns.boxplot(data = profile, x = 'income')\n",
    "plt.grid(False)\n",
    "ax = plt.gca()\n",
    "ax.spines['right'].set_visible(False)\n",
    "ax.spines['top'].set_visible(False)\n",
    "ax.spines['left'].set_visible(False)\n",
    "ax.spines['bottom'].set_visible(False)"
   ]
  },
  {
   "cell_type": "markdown",
   "id": "55bf8470",
   "metadata": {},
   "source": [
    "#### Income range Binning"
   ]
  },
  {
   "cell_type": "code",
   "execution_count": 27,
   "id": "8a771137",
   "metadata": {},
   "outputs": [
    {
     "data": {
      "image/png": "[encoded data removed]",
      "text/plain": [
       "<Figure size 432x432 with 1 Axes>"
      ]
     },
     "metadata": {},
     "output_type": "display_data"
    }
   ],
   "source": [
    "customer_income_range_counts = profile['customer_income_range'].value_counts()\n",
    "\n",
    "# Calculate the percentage for each gender category\n",
    "total_count = customer_income_range_counts.sum()\n",
    "income_percentage = (customer_income_range_counts / total_count) * 100\n",
    "\n",
    "# Create a bar chart\n",
    "plt.figure(figsize=(6, 6))\n",
    "bars = plt.bar(customer_income_range_counts.index, customer_income_range_counts)\n",
    "plt.xlabel('Age')\n",
    "plt.ylabel('Count')\n",
    "plt.title('Income range Distribution')\n",
    "\n",
    "# Add data labels on top of each bar showing the percentage\n",
    "for bar, percentage in zip(bars, income_percentage):\n",
    "    height = bar.get_height()\n",
    "    plt.annotate(f'{percentage:.1f}%', xy=(bar.get_x() + bar.get_width() / 2, height),\n",
    "                 xytext=(0, 3), textcoords='offset points', ha='center', va='bottom')\n",
    "plt.grid(False)\n",
    "ax = plt.gca()\n",
    "ax.spines['right'].set_visible(False)\n",
    "ax.spines['top'].set_visible(False)\n",
    "ax.spines['left'].set_visible(False)\n",
    "ax.spines['bottom'].set_visible(False)\n",
    "plt.show()"
   ]
  },
  {
   "cell_type": "markdown",
   "id": "b77a2930",
   "metadata": {},
   "source": [
    "#### Extracting Year,Month,Day, Month Name, Day Name, Day Of Week from became_member_on"
   ]
  },
  {
   "cell_type": "code",
   "execution_count": 28,
   "id": "e86e2b03",
   "metadata": {},
   "outputs": [],
   "source": [
    "profile['Year'] = profile['became_member_on'].dt.year\n",
    "profile['Month'] = profile['became_member_on'].dt.month\n",
    "profile['Day'] = profile['became_member_on'].dt.day\n",
    "\n",
    "# Extract month name and day name\n",
    "profile['Month Name'] = profile['became_member_on'].dt.strftime('%B')\n",
    "profile['Day Name'] = profile['became_member_on'].dt.strftime('%A')\n",
    "\n",
    "# Extract the day of the week (Monday: 0, Sunday: 6)\n",
    "profile['Day of Week'] = profile['became_member_on'].dt.dayofweek"
   ]
  },
  {
   "cell_type": "markdown",
   "id": "4200da77",
   "metadata": {},
   "source": [
    "#### Year"
   ]
  },
  {
   "cell_type": "code",
   "execution_count": 29,
   "id": "e348ac03",
   "metadata": {},
   "outputs": [
    {
     "data": {
      "image/png": "[encoded data removed]",
      "text/plain": [
       "<Figure size 432x432 with 1 Axes>"
      ]
     },
     "metadata": {},
     "output_type": "display_data"
    }
   ],
   "source": [
    "year_counts = profile['Year'].value_counts()\n",
    "\n",
    "# Calculate the percentage for each gender category\n",
    "total_count = year_counts.sum()\n",
    "year_percentage = (year_counts / total_count) * 100\n",
    "\n",
    "# Create a bar chart\n",
    "plt.figure(figsize=(6, 6))\n",
    "bars = plt.bar(year_counts.index, year_counts)\n",
    "plt.xlabel('Year')\n",
    "plt.ylabel('Count')\n",
    "plt.title('Year Distribution')\n",
    "\n",
    "# Add data labels on top of each bar showing the percentage\n",
    "for bar, percentage in zip(bars, year_percentage):\n",
    "    height = bar.get_height()\n",
    "    plt.annotate(f'{percentage:.1f}%', xy=(bar.get_x() + bar.get_width() / 2, height),\n",
    "                 xytext=(0, 3), textcoords='offset points', ha='center', va='bottom')\n",
    "plt.grid(False)\n",
    "ax = plt.gca()\n",
    "ax = plt.gca()\n",
    "ax.spines['right'].set_visible(False)\n",
    "ax.spines['top'].set_visible(False)\n",
    "ax.spines['left'].set_visible(False)\n",
    "ax.spines['bottom'].set_visible(False)\n",
    "plt.show()"
   ]
  },
  {
   "cell_type": "markdown",
   "id": "6b4eda17",
   "metadata": {},
   "source": [
    "#### Month "
   ]
  },
  {
   "cell_type": "code",
   "execution_count": 30,
   "id": "f72c1b35",
   "metadata": {},
   "outputs": [
    {
     "data": {
      "image/png": "[encoded data removed]",
      "text/plain": [
       "<Figure size 720x360 with 1 Axes>"
      ]
     },
     "metadata": {},
     "output_type": "display_data"
    }
   ],
   "source": [
    "plt.figure(figsize = (10,5))\n",
    "sns.countplot(data = profile.sort_values('Month'), y = 'Month Name')\n",
    "plt.title('Number of New Members by Month', fontsize = 16)\n",
    "plt.xticks(fontsize = 12); plt.yticks(fontsize = 12)\n",
    "plt.xlabel('Count', fontsize = 14); plt.ylabel('Month', fontsize = 14)\n",
    "plt.grid(False)\n",
    "\n",
    "ax = plt.gca()\n",
    "ax.spines['right'].set_visible(False)\n",
    "ax.spines['top'].set_visible(False)\n",
    "ax.spines['left'].set_visible(False)\n",
    "ax.spines['bottom'].set_visible(False)\n",
    "\n",
    "plt.show()"
   ]
  },
  {
   "cell_type": "markdown",
   "id": "40395ffc",
   "metadata": {},
   "source": [
    "#### Week Day"
   ]
  },
  {
   "cell_type": "code",
   "execution_count": 31,
   "id": "8e0b2721",
   "metadata": {},
   "outputs": [
    {
     "data": {
      "image/png": "[encoded data removed]",
      "text/plain": [
       "<Figure size 720x360 with 1 Axes>"
      ]
     },
     "metadata": {},
     "output_type": "display_data"
    }
   ],
   "source": [
    "plt.figure(figsize = (10,5))\n",
    "sns.countplot(data = profile.sort_values('Day of Week'), y = 'Day Name')\n",
    "plt.title('Number of New Members by Weekday', fontsize = 16)\n",
    "plt.xticks(fontsize = 12); plt.yticks(fontsize = 12)\n",
    "plt.xlabel('Count', fontsize = 14); plt.ylabel('Weekday', fontsize = 14)\n",
    "plt.grid(False)\n",
    "\n",
    "ax = plt.gca()\n",
    "ax.spines['right'].set_visible(False)\n",
    "ax.spines['top'].set_visible(False)\n",
    "ax.spines['left'].set_visible(False)\n",
    "ax.spines['bottom'].set_visible(False)\n",
    "plt.show()"
   ]
  },
  {
   "cell_type": "markdown",
   "id": "af96ca3d",
   "metadata": {},
   "source": [
    "#### Age vs Gender"
   ]
  },
  {
   "cell_type": "code",
   "execution_count": 32,
   "id": "a4f2e93a",
   "metadata": {},
   "outputs": [
    {
     "data": {
      "image/png": "[encoded data removed]",
      "text/plain": [
       "<Figure size 720x360 with 1 Axes>"
      ]
     },
     "metadata": {},
     "output_type": "display_data"
    }
   ],
   "source": [
    "import seaborn as sns\n",
    "import matplotlib.pyplot as plt\n",
    "\n",
    "# Calculate the average age for each gender\n",
    "avg_age_by_gender = profile.groupby('gender')['age'].mean()\n",
    "\n",
    "# Create a bar chart to visualize the average age by gender\n",
    "plt.figure(figsize=(10, 5))\n",
    "sns.barplot(x=avg_age_by_gender.index, y=avg_age_by_gender.values)\n",
    "\n",
    "# Add labels and title\n",
    "plt.xlabel('Gender', fontsize=14)\n",
    "plt.ylabel('Average Age', fontsize=14)\n",
    "plt.title('Average Age by Gender', fontsize=16)\n",
    "plt.xticks(fontsize=12)\n",
    "plt.yticks(fontsize=12)\n",
    "\n",
    "plt.grid(False)\n",
    "\n",
    "ax = plt.gca()\n",
    "ax.spines['right'].set_visible(False)\n",
    "ax.spines['top'].set_visible(False)\n",
    "ax.spines['left'].set_visible(False)\n",
    "ax.spines['bottom'].set_visible(False)\n",
    "\n",
    "# Show the plot\n",
    "plt.show()\n"
   ]
  },
  {
   "cell_type": "markdown",
   "id": "f2883b27",
   "metadata": {},
   "source": [
    "#### Income by Gender"
   ]
  },
  {
   "cell_type": "code",
   "execution_count": 33,
   "id": "73687aab",
   "metadata": {},
   "outputs": [
    {
     "data": {
      "image/png": "[encoded data removed]",
      "text/plain": [
       "<Figure size 720x360 with 1 Axes>"
      ]
     },
     "metadata": {},
     "output_type": "display_data"
    }
   ],
   "source": [
    "import seaborn as sns\n",
    "import matplotlib.pyplot as plt\n",
    "\n",
    "# Calculate the mean income for each gender\n",
    "mean_income_by_gender = profile.groupby('gender')['income'].mean()\n",
    "\n",
    "# Create a bar chart to visualize the mean income by gender\n",
    "plt.figure(figsize=(10, 5))\n",
    "sns.barplot(x=mean_income_by_gender.index, y=mean_income_by_gender.values)\n",
    "\n",
    "# Add labels and title\n",
    "plt.xlabel('Gender', fontsize=14)\n",
    "plt.ylabel('Mean Income', fontsize=14)\n",
    "plt.title('Mean Income by Gender', fontsize=16)\n",
    "plt.xticks(fontsize=12)\n",
    "plt.yticks(fontsize=12)\n",
    "plt.grid(False)\n",
    "\n",
    "ax = plt.gca()\n",
    "ax.spines['right'].set_visible(False)\n",
    "ax.spines['top'].set_visible(False)\n",
    "ax.spines['left'].set_visible(False)\n",
    "ax.spines['bottom'].set_visible(False)\n",
    "\n",
    "# Show the plot\n",
    "plt.show()\n"
   ]
  },
  {
   "cell_type": "markdown",
   "id": "09203950",
   "metadata": {},
   "source": [
    "#### Income vs Age"
   ]
  },
  {
   "cell_type": "code",
   "execution_count": 34,
   "id": "70b68fc8",
   "metadata": {},
   "outputs": [
    {
     "data": {
      "image/png": "[encoded data removed]",
      "text/plain": [
       "<Figure size 576x396 with 1 Axes>"
      ]
     },
     "metadata": {},
     "output_type": "display_data"
    }
   ],
   "source": [
    "sns.barplot(data = profile, x = 'age_group', y = 'income')\n",
    "plt.xticks(rotation = 45)\n",
    "ytick_labels = [str(i) + 'k' for i in (np.arange(0, 80000, 10000) / 1000).astype(int)]\n",
    "plt.yticks(np.arange(0, 80000, 10000), labels = ytick_labels)\n",
    "plt.title('Income vs Age', fontsize = 16)\n",
    "\n",
    "plt.grid(False)\n",
    "ax = plt.gca()\n",
    "ax.spines['right'].set_visible(False)\n",
    "ax.spines['top'].set_visible(False)\n",
    "ax.spines['left'].set_visible(False)\n",
    "ax.spines['bottom'].set_visible(False)\n",
    "\n",
    "\n",
    "plt.show()"
   ]
  },
  {
   "cell_type": "markdown",
   "id": "1b84d8fe",
   "metadata": {},
   "source": [
    "## portfolio"
   ]
  },
  {
   "cell_type": "markdown",
   "id": "b82480c5",
   "metadata": {},
   "source": [
    "#### Offer Type"
   ]
  },
  {
   "cell_type": "code",
   "execution_count": 35,
   "id": "a5280974",
   "metadata": {
    "scrolled": true
   },
   "outputs": [
    {
     "data": {
      "image/png": "[encoded data removed]",
      "text/plain": [
       "<Figure size 504x360 with 1 Axes>"
      ]
     },
     "metadata": {},
     "output_type": "display_data"
    }
   ],
   "source": [
    "fig = plt.figure(figsize = (7,5))\n",
    "portfolio['offer_type'].value_counts().plot(kind = 'bar')\n",
    "plt.xticks(rotation = None)\n",
    "plt.ylabel('Count')\n",
    "plt.title('Offer Type counts', fontsize = 16)\n",
    "\n",
    "plt.grid(False)\n",
    "ax = plt.gca()\n",
    "ax.spines['right'].set_visible(False)\n",
    "ax.spines['top'].set_visible(False)\n",
    "ax.spines['left'].set_visible(False)\n",
    "ax.spines['bottom'].set_visible(False)\n",
    "plt.show()"
   ]
  },
  {
   "cell_type": "markdown",
   "id": "9ac7cf20",
   "metadata": {},
   "source": [
    "#### Offer Name"
   ]
  },
  {
   "cell_type": "code",
   "execution_count": 36,
   "id": "42d23243",
   "metadata": {},
   "outputs": [
    {
     "data": {
      "image/png": "[encoded data removed]",
      "text/plain": [
       "<Figure size 504x360 with 1 Axes>"
      ]
     },
     "metadata": {},
     "output_type": "display_data"
    }
   ],
   "source": [
    "fig = plt.figure(figsize = (7,5))\n",
    "portfolio['offer_name'].value_counts().plot(kind = 'bar')\n",
    "plt.xticks(rotation = None)\n",
    "plt.ylabel('Count')\n",
    "plt.title('Offer Name counts', fontsize = 16)\n",
    "\n",
    "plt.grid(False)\n",
    "ax = plt.gca()\n",
    "ax.spines['right'].set_visible(False)\n",
    "ax.spines['top'].set_visible(False)\n",
    "ax.spines['left'].set_visible(False)\n",
    "ax.spines['bottom'].set_visible(False)\n",
    "plt.show()"
   ]
  },
  {
   "cell_type": "markdown",
   "id": "ff96f139",
   "metadata": {},
   "source": [
    "#### Channels"
   ]
  },
  {
   "cell_type": "code",
   "execution_count": 37,
   "id": "50d4393a",
   "metadata": {},
   "outputs": [
    {
     "data": {
      "image/png": "[encoded data removed]",
      "text/plain": [
       "<Figure size 720x288 with 1 Axes>"
      ]
     },
     "metadata": {},
     "output_type": "display_data"
    }
   ],
   "source": [
    "fig = plt.figure(figsize = (10,4))\n",
    "portfolio['channels'].value_counts().plot(kind = 'bar')\n",
    "plt.xticks(rotation = None)\n",
    "plt.ylabel('Count')\n",
    "plt.title('Channel counts', fontsize = 16)\n",
    "plt.grid(False)\n",
    "ax = plt.gca()\n",
    "ax.spines['right'].set_visible(False)\n",
    "ax.spines['top'].set_visible(False)\n",
    "ax.spines['left'].set_visible(False)\n",
    "ax.spines['bottom'].set_visible(False)\n",
    "plt.show()"
   ]
  },
  {
   "cell_type": "markdown",
   "id": "3e07fd0a",
   "metadata": {},
   "source": [
    "#### Reward"
   ]
  },
  {
   "cell_type": "code",
   "execution_count": 38,
   "id": "46a5ddd5",
   "metadata": {},
   "outputs": [
    {
     "data": {
      "image/png": "[encoded data removed]",
      "text/plain": [
       "<Figure size 288x288 with 1 Axes>"
      ]
     },
     "metadata": {},
     "output_type": "display_data"
    }
   ],
   "source": [
    "fig = plt.figure(figsize = (4,4))\n",
    "portfolio['reward'].value_counts().plot(kind = 'bar')\n",
    "plt.xticks(rotation = None)\n",
    "plt.ylabel('Count')\n",
    "plt.title('reward counts', fontsize = 16)\n",
    "plt.grid(False)\n",
    "ax = plt.gca()\n",
    "ax.spines['right'].set_visible(False)\n",
    "ax.spines['top'].set_visible(False)\n",
    "ax.spines['left'].set_visible(False)\n",
    "ax.spines['bottom'].set_visible(False)\n",
    "plt.show()"
   ]
  },
  {
   "cell_type": "markdown",
   "id": "4d9ae809",
   "metadata": {},
   "source": [
    "#### Difficulty "
   ]
  },
  {
   "cell_type": "code",
   "execution_count": 39,
   "id": "3455c30c",
   "metadata": {},
   "outputs": [
    {
     "data": {
      "image/png": "[encoded data removed]",
      "text/plain": [
       "<Figure size 288x288 with 1 Axes>"
      ]
     },
     "metadata": {},
     "output_type": "display_data"
    }
   ],
   "source": [
    "fig = plt.figure(figsize = (4,4))\n",
    "portfolio['difficulty'].value_counts().plot(kind = 'bar')\n",
    "plt.xticks(rotation = None)\n",
    "plt.ylabel('Count')\n",
    "plt.title('Difficulty counts', fontsize = 16)\n",
    "plt.grid(False)\n",
    "ax = plt.gca()\n",
    "ax.spines['right'].set_visible(False)\n",
    "ax.spines['top'].set_visible(False)\n",
    "ax.spines['left'].set_visible(False)\n",
    "ax.spines['bottom'].set_visible(False)\n",
    "plt.show()"
   ]
  },
  {
   "cell_type": "markdown",
   "id": "29b10baf",
   "metadata": {},
   "source": [
    "#### Duration"
   ]
  },
  {
   "cell_type": "code",
   "execution_count": 40,
   "id": "defcf6ab",
   "metadata": {},
   "outputs": [
    {
     "data": {
      "image/png": "[encoded data removed]",
      "text/plain": [
       "<Figure size 288x288 with 1 Axes>"
      ]
     },
     "metadata": {},
     "output_type": "display_data"
    }
   ],
   "source": [
    "fig = plt.figure(figsize = (4,4))\n",
    "portfolio['duration'].value_counts().plot(kind = 'bar')\n",
    "plt.xticks(rotation = None)\n",
    "plt.ylabel('Count')\n",
    "plt.title('Duration counts', fontsize = 16)\n",
    "plt.grid(False)\n",
    "ax = plt.gca()\n",
    "ax.spines['right'].set_visible(False)\n",
    "ax.spines['top'].set_visible(False)\n",
    "ax.spines['left'].set_visible(False)\n",
    "ax.spines['bottom'].set_visible(False)\n",
    "plt.show()"
   ]
  },
  {
   "cell_type": "markdown",
   "id": "c2a41649",
   "metadata": {},
   "source": [
    "## transcript"
   ]
  },
  {
   "cell_type": "markdown",
   "id": "19e90a62",
   "metadata": {},
   "source": [
    "#### Event"
   ]
  },
  {
   "cell_type": "code",
   "execution_count": 41,
   "id": "e7bc7a2e",
   "metadata": {},
   "outputs": [
    {
     "data": {
      "image/png": "[encoded data removed]",
      "text/plain": [
       "<Figure size 504x360 with 1 Axes>"
      ]
     },
     "metadata": {},
     "output_type": "display_data"
    }
   ],
   "source": [
    "fig = plt.figure(figsize = (7,5))\n",
    "transcript['event'].value_counts().plot(kind = 'bar')\n",
    "plt.xticks(rotation = None)\n",
    "plt.ylabel('Count')\n",
    "plt.title('Event counts', fontsize = 16)\n",
    "plt.grid(False)\n",
    "ax = plt.gca()\n",
    "ax.spines['right'].set_visible(False)\n",
    "ax.spines['top'].set_visible(False)\n",
    "ax.spines['left'].set_visible(False)\n",
    "ax.spines['bottom'].set_visible(False)\n",
    "plt.show()"
   ]
  },
  {
   "cell_type": "markdown",
   "id": "d6a5d96e",
   "metadata": {},
   "source": [
    "# Data Manipulation"
   ]
  },
  {
   "cell_type": "markdown",
   "id": "dd929c36",
   "metadata": {},
   "source": [
    "## portfolio"
   ]
  },
  {
   "cell_type": "code",
   "execution_count": 42,
   "id": "46fa3c12",
   "metadata": {},
   "outputs": [],
   "source": [
    "#Rename reward,diificulty,duration,id cols for easier understanding\n",
    "\n",
    "rename_portfolio = {'difficulty':'offer_difficulty' , 'id':'offer_id', 'duration':'offer_duration', 'reward': 'offer_reward'}\n",
    "portfolio  = portfolio.rename(columns= rename_portfolio )"
   ]
  },
  {
   "cell_type": "markdown",
   "id": "5bac469c",
   "metadata": {},
   "source": [
    "#### Encoding"
   ]
  },
  {
   "cell_type": "code",
   "execution_count": 43,
   "id": "a9dc0cb2",
   "metadata": {},
   "outputs": [],
   "source": [
    "# extract list values from channels col and encode them\n",
    "\n",
    "mlb = MultiLabelBinarizer()\n",
    "\n",
    "channel_dummies = pd.DataFrame(mlb.fit_transform(portfolio['channels']), columns=mlb.classes_, index=portfolio.index)"
   ]
  },
  {
   "cell_type": "code",
   "execution_count": 44,
   "id": "bb51d599",
   "metadata": {},
   "outputs": [],
   "source": [
    "# concat channel_dummies with portfolio \n",
    "\n",
    "portfolio = pd.concat([portfolio, channel_dummies], axis=1)"
   ]
  },
  {
   "cell_type": "code",
   "execution_count": 45,
   "id": "4e0ea4d4",
   "metadata": {},
   "outputs": [],
   "source": [
    "# drop channels col\n",
    "\n",
    "portfolio = portfolio.drop(columns=['channels'])"
   ]
  },
  {
   "cell_type": "code",
   "execution_count": 46,
   "id": "dc0c1969",
   "metadata": {},
   "outputs": [],
   "source": [
    "# reorder cols \n",
    "\n",
    "portfolio_df = portfolio[[ 'offer_id','offer_name','offer_type' ,'offer_difficulty','offer_duration',\n",
    "                           'offer_reward','email','mobile','social','web']]"
   ]
  },
  {
   "cell_type": "code",
   "execution_count": 47,
   "id": "d763a3a4",
   "metadata": {},
   "outputs": [
    {
     "data": {
      "text/html": [
       "<div>\n",
       "<style scoped>\n",
       "    .dataframe tbody tr th:only-of-type {\n",
       "        vertical-align: middle;\n",
       "    }\n",
       "\n",
       "    .dataframe tbody tr th {\n",
       "        vertical-align: top;\n",
       "    }\n",
       "\n",
       "    .dataframe thead th {\n",
       "        text-align: right;\n",
       "    }\n",
       "</style>\n",
       "<table border=\"1\" class=\"dataframe\">\n",
       "  <thead>\n",
       "    <tr style=\"text-align: right;\">\n",
       "      <th></th>\n",
       "      <th>offer_id</th>\n",
       "      <th>offer_name</th>\n",
       "      <th>offer_type</th>\n",
       "      <th>offer_difficulty</th>\n",
       "      <th>offer_duration</th>\n",
       "      <th>offer_reward</th>\n",
       "      <th>email</th>\n",
       "      <th>mobile</th>\n",
       "      <th>social</th>\n",
       "      <th>web</th>\n",
       "    </tr>\n",
       "  </thead>\n",
       "  <tbody>\n",
       "    <tr>\n",
       "      <th>0</th>\n",
       "      <td>ae264e3637204a6fb9bb56bc8210ddfd</td>\n",
       "      <td>of_1</td>\n",
       "      <td>bogo</td>\n",
       "      <td>10</td>\n",
       "      <td>7</td>\n",
       "      <td>10</td>\n",
       "      <td>1</td>\n",
       "      <td>1</td>\n",
       "      <td>1</td>\n",
       "      <td>0</td>\n",
       "    </tr>\n",
       "    <tr>\n",
       "      <th>1</th>\n",
       "      <td>4d5c57ea9a6940dd891ad53e9dbe8da0</td>\n",
       "      <td>of_2</td>\n",
       "      <td>bogo</td>\n",
       "      <td>10</td>\n",
       "      <td>5</td>\n",
       "      <td>10</td>\n",
       "      <td>1</td>\n",
       "      <td>1</td>\n",
       "      <td>1</td>\n",
       "      <td>1</td>\n",
       "    </tr>\n",
       "    <tr>\n",
       "      <th>2</th>\n",
       "      <td>3f207df678b143eea3cee63160fa8bed</td>\n",
       "      <td>of_3</td>\n",
       "      <td>informational</td>\n",
       "      <td>0</td>\n",
       "      <td>4</td>\n",
       "      <td>0</td>\n",
       "      <td>1</td>\n",
       "      <td>1</td>\n",
       "      <td>0</td>\n",
       "      <td>1</td>\n",
       "    </tr>\n",
       "    <tr>\n",
       "      <th>3</th>\n",
       "      <td>9b98b8c7a33c4b65b9aebfe6a799e6d9</td>\n",
       "      <td>of_4</td>\n",
       "      <td>bogo</td>\n",
       "      <td>5</td>\n",
       "      <td>7</td>\n",
       "      <td>5</td>\n",
       "      <td>1</td>\n",
       "      <td>1</td>\n",
       "      <td>0</td>\n",
       "      <td>1</td>\n",
       "    </tr>\n",
       "    <tr>\n",
       "      <th>4</th>\n",
       "      <td>0b1e1539f2cc45b7b9fa7c272da2e1d7</td>\n",
       "      <td>of_5</td>\n",
       "      <td>discount</td>\n",
       "      <td>20</td>\n",
       "      <td>10</td>\n",
       "      <td>5</td>\n",
       "      <td>1</td>\n",
       "      <td>0</td>\n",
       "      <td>0</td>\n",
       "      <td>1</td>\n",
       "    </tr>\n",
       "  </tbody>\n",
       "</table>\n",
       "</div>"
      ],
      "text/plain": [
       "                           offer_id offer_name     offer_type  \\\n",
       "0  ae264e3637204a6fb9bb56bc8210ddfd       of_1           bogo   \n",
       "1  4d5c57ea9a6940dd891ad53e9dbe8da0       of_2           bogo   \n",
       "2  3f207df678b143eea3cee63160fa8bed       of_3  informational   \n",
       "3  9b98b8c7a33c4b65b9aebfe6a799e6d9       of_4           bogo   \n",
       "4  0b1e1539f2cc45b7b9fa7c272da2e1d7       of_5       discount   \n",
       "\n",
       "   offer_difficulty  offer_duration  offer_reward  email  mobile  social  web  \n",
       "0                10               7            10      1       1       1    0  \n",
       "1                10               5            10      1       1       1    1  \n",
       "2                 0               4             0      1       1       0    1  \n",
       "3                 5               7             5      1       1       0    1  \n",
       "4                20              10             5      1       0       0    1  "
      ]
     },
     "execution_count": 47,
     "metadata": {},
     "output_type": "execute_result"
    }
   ],
   "source": [
    "# portfolio data after data cleaning \n",
    "\n",
    "portfolio_df.head()"
   ]
  },
  {
   "cell_type": "markdown",
   "id": "96e9113d",
   "metadata": {},
   "source": [
    "## profile"
   ]
  },
  {
   "cell_type": "code",
   "execution_count": 48,
   "id": "6e082860",
   "metadata": {},
   "outputs": [],
   "source": [
    "#rename profile columns\n",
    "\n",
    "rename_profile = {'id':'customer_id' , 'income':'customer_income'}\n",
    "profile  = profile.rename(columns= rename_profile )"
   ]
  },
  {
   "cell_type": "markdown",
   "id": "c7297d1f",
   "metadata": {},
   "source": [
    "#### Encoding"
   ]
  },
  {
   "cell_type": "code",
   "execution_count": 49,
   "id": "e3433979",
   "metadata": {},
   "outputs": [],
   "source": [
    "#encode gender col\n",
    "\n",
    "gender_dummies = profile['gender'].str.get_dummies().add_prefix('gender_')"
   ]
  },
  {
   "cell_type": "code",
   "execution_count": 50,
   "id": "a67a4c13",
   "metadata": {},
   "outputs": [],
   "source": [
    "# Encode for Income ranges\n",
    "age_df = pd.get_dummies(profile['age_group'])"
   ]
  },
  {
   "cell_type": "code",
   "execution_count": 51,
   "id": "e59bea28",
   "metadata": {},
   "outputs": [],
   "source": [
    "# Encode for Income ranges\n",
    "sal_df = pd.get_dummies(profile['customer_income_range'])"
   ]
  },
  {
   "cell_type": "code",
   "execution_count": 52,
   "id": "ca77de4d",
   "metadata": {},
   "outputs": [],
   "source": [
    "profile['year_joined'] = profile['became_member_on'].apply(lambda elem: elem.year)\n",
    "year_joined_df = pd.get_dummies(profile['year_joined'])"
   ]
  },
  {
   "cell_type": "code",
   "execution_count": 53,
   "id": "b9434cf1",
   "metadata": {},
   "outputs": [],
   "source": [
    "profile = pd.concat([profile,gender_dummies,sal_df,age_df,year_joined_df], axis=1)"
   ]
  },
  {
   "cell_type": "code",
   "execution_count": 54,
   "id": "fb82a4f7",
   "metadata": {},
   "outputs": [],
   "source": [
    "profile_df = profile[['customer_id', 'gender', 'age', 'age_group', 'customer_income','customer_income_range', \n",
    "   'became_member_on', 'year_joined','gender_F','gender_M','gender_O','18–25', '26-43', '44-56','57-75', '76+','<$50K','$(50,000-74,999)','$(75,000-99,999)', '>$100K',2013, 2014,2015,2016,2017,2018]]\n"
   ]
  },
  {
   "cell_type": "code",
   "execution_count": 55,
   "id": "d191d212",
   "metadata": {},
   "outputs": [
    {
     "data": {
      "text/html": [
       "<div>\n",
       "<style scoped>\n",
       "    .dataframe tbody tr th:only-of-type {\n",
       "        vertical-align: middle;\n",
       "    }\n",
       "\n",
       "    .dataframe tbody tr th {\n",
       "        vertical-align: top;\n",
       "    }\n",
       "\n",
       "    .dataframe thead th {\n",
       "        text-align: right;\n",
       "    }\n",
       "</style>\n",
       "<table border=\"1\" class=\"dataframe\">\n",
       "  <thead>\n",
       "    <tr style=\"text-align: right;\">\n",
       "      <th></th>\n",
       "      <th>customer_id</th>\n",
       "      <th>gender</th>\n",
       "      <th>age</th>\n",
       "      <th>age_group</th>\n",
       "      <th>customer_income</th>\n",
       "      <th>customer_income_range</th>\n",
       "      <th>became_member_on</th>\n",
       "      <th>year_joined</th>\n",
       "      <th>gender_F</th>\n",
       "      <th>gender_M</th>\n",
       "      <th>...</th>\n",
       "      <th>&lt;$50K</th>\n",
       "      <th>$(50,000-74,999)</th>\n",
       "      <th>$(75,000-99,999)</th>\n",
       "      <th>&gt;$100K</th>\n",
       "      <th>2013</th>\n",
       "      <th>2014</th>\n",
       "      <th>2015</th>\n",
       "      <th>2016</th>\n",
       "      <th>2017</th>\n",
       "      <th>2018</th>\n",
       "    </tr>\n",
       "  </thead>\n",
       "  <tbody>\n",
       "    <tr>\n",
       "      <th>0</th>\n",
       "      <td>0610b486422d4921ae7d2bf64640c50b</td>\n",
       "      <td>F</td>\n",
       "      <td>55</td>\n",
       "      <td>44-56</td>\n",
       "      <td>112000.0</td>\n",
       "      <td>&gt;$100K</td>\n",
       "      <td>2017-07-15</td>\n",
       "      <td>2017</td>\n",
       "      <td>1</td>\n",
       "      <td>0</td>\n",
       "      <td>...</td>\n",
       "      <td>0</td>\n",
       "      <td>0</td>\n",
       "      <td>0</td>\n",
       "      <td>1</td>\n",
       "      <td>0</td>\n",
       "      <td>0</td>\n",
       "      <td>0</td>\n",
       "      <td>0</td>\n",
       "      <td>1</td>\n",
       "      <td>0</td>\n",
       "    </tr>\n",
       "    <tr>\n",
       "      <th>1</th>\n",
       "      <td>78afa995795e4d85b5d9ceeca43f5fef</td>\n",
       "      <td>F</td>\n",
       "      <td>75</td>\n",
       "      <td>57-75</td>\n",
       "      <td>100000.0</td>\n",
       "      <td>&gt;$100K</td>\n",
       "      <td>2017-05-09</td>\n",
       "      <td>2017</td>\n",
       "      <td>1</td>\n",
       "      <td>0</td>\n",
       "      <td>...</td>\n",
       "      <td>0</td>\n",
       "      <td>0</td>\n",
       "      <td>0</td>\n",
       "      <td>1</td>\n",
       "      <td>0</td>\n",
       "      <td>0</td>\n",
       "      <td>0</td>\n",
       "      <td>0</td>\n",
       "      <td>1</td>\n",
       "      <td>0</td>\n",
       "    </tr>\n",
       "    <tr>\n",
       "      <th>2</th>\n",
       "      <td>e2127556f4f64592b11af22de27a7932</td>\n",
       "      <td>M</td>\n",
       "      <td>68</td>\n",
       "      <td>57-75</td>\n",
       "      <td>70000.0</td>\n",
       "      <td>$(50,000-74,999)</td>\n",
       "      <td>2018-04-26</td>\n",
       "      <td>2018</td>\n",
       "      <td>0</td>\n",
       "      <td>1</td>\n",
       "      <td>...</td>\n",
       "      <td>0</td>\n",
       "      <td>1</td>\n",
       "      <td>0</td>\n",
       "      <td>0</td>\n",
       "      <td>0</td>\n",
       "      <td>0</td>\n",
       "      <td>0</td>\n",
       "      <td>0</td>\n",
       "      <td>0</td>\n",
       "      <td>1</td>\n",
       "    </tr>\n",
       "    <tr>\n",
       "      <th>3</th>\n",
       "      <td>389bc3fa690240e798340f5a15918d5c</td>\n",
       "      <td>M</td>\n",
       "      <td>65</td>\n",
       "      <td>57-75</td>\n",
       "      <td>53000.0</td>\n",
       "      <td>$(50,000-74,999)</td>\n",
       "      <td>2018-02-09</td>\n",
       "      <td>2018</td>\n",
       "      <td>0</td>\n",
       "      <td>1</td>\n",
       "      <td>...</td>\n",
       "      <td>0</td>\n",
       "      <td>1</td>\n",
       "      <td>0</td>\n",
       "      <td>0</td>\n",
       "      <td>0</td>\n",
       "      <td>0</td>\n",
       "      <td>0</td>\n",
       "      <td>0</td>\n",
       "      <td>0</td>\n",
       "      <td>1</td>\n",
       "    </tr>\n",
       "    <tr>\n",
       "      <th>4</th>\n",
       "      <td>2eeac8d8feae4a8cad5a6af0499a211d</td>\n",
       "      <td>M</td>\n",
       "      <td>58</td>\n",
       "      <td>57-75</td>\n",
       "      <td>51000.0</td>\n",
       "      <td>$(50,000-74,999)</td>\n",
       "      <td>2017-11-11</td>\n",
       "      <td>2017</td>\n",
       "      <td>0</td>\n",
       "      <td>1</td>\n",
       "      <td>...</td>\n",
       "      <td>0</td>\n",
       "      <td>1</td>\n",
       "      <td>0</td>\n",
       "      <td>0</td>\n",
       "      <td>0</td>\n",
       "      <td>0</td>\n",
       "      <td>0</td>\n",
       "      <td>0</td>\n",
       "      <td>1</td>\n",
       "      <td>0</td>\n",
       "    </tr>\n",
       "  </tbody>\n",
       "</table>\n",
       "<p>5 rows × 26 columns</p>\n",
       "</div>"
      ],
      "text/plain": [
       "                        customer_id gender  age age_group  customer_income  \\\n",
       "0  0610b486422d4921ae7d2bf64640c50b      F   55     44-56         112000.0   \n",
       "1  78afa995795e4d85b5d9ceeca43f5fef      F   75     57-75         100000.0   \n",
       "2  e2127556f4f64592b11af22de27a7932      M   68     57-75          70000.0   \n",
       "3  389bc3fa690240e798340f5a15918d5c      M   65     57-75          53000.0   \n",
       "4  2eeac8d8feae4a8cad5a6af0499a211d      M   58     57-75          51000.0   \n",
       "\n",
       "  customer_income_range became_member_on  year_joined  gender_F  gender_M  \\\n",
       "0                >$100K       2017-07-15         2017         1         0   \n",
       "1                >$100K       2017-05-09         2017         1         0   \n",
       "2      $(50,000-74,999)       2018-04-26         2018         0         1   \n",
       "3      $(50,000-74,999)       2018-02-09         2018         0         1   \n",
       "4      $(50,000-74,999)       2017-11-11         2017         0         1   \n",
       "\n",
       "   ...  <$50K  $(50,000-74,999)  $(75,000-99,999)  >$100K  2013  2014  2015  \\\n",
       "0  ...      0                 0                 0       1     0     0     0   \n",
       "1  ...      0                 0                 0       1     0     0     0   \n",
       "2  ...      0                 1                 0       0     0     0     0   \n",
       "3  ...      0                 1                 0       0     0     0     0   \n",
       "4  ...      0                 1                 0       0     0     0     0   \n",
       "\n",
       "   2016  2017  2018  \n",
       "0     0     1     0  \n",
       "1     0     1     0  \n",
       "2     0     0     1  \n",
       "3     0     0     1  \n",
       "4     0     1     0  \n",
       "\n",
       "[5 rows x 26 columns]"
      ]
     },
     "execution_count": 55,
     "metadata": {},
     "output_type": "execute_result"
    }
   ],
   "source": [
    "profile_df.head()"
   ]
  },
  {
   "cell_type": "markdown",
   "id": "a1511783",
   "metadata": {},
   "source": [
    "## transcript"
   ]
  },
  {
   "cell_type": "code",
   "execution_count": 56,
   "id": "1969e329",
   "metadata": {},
   "outputs": [],
   "source": [
    "# Rename Transcript columns\n",
    "rename_transcript = {'person': 'customer_id' , 'offerid' : 'offer_id' }\n",
    "transcript = transcript.rename(columns= rename_transcript )"
   ]
  },
  {
   "cell_type": "code",
   "execution_count": 57,
   "id": "77bef61b",
   "metadata": {},
   "outputs": [],
   "source": [
    " # Remove customer id's that are not in the customer profile DataFrame\n",
    "transcript = transcript[transcript['customer_id'].isin(profile['customer_id'])]"
   ]
  },
  {
   "cell_type": "code",
   "execution_count": 58,
   "id": "8c99fd27",
   "metadata": {},
   "outputs": [],
   "source": [
    "# Convert from hours to days\n",
    "transcript['time'] = transcript['time'] // 24   "
   ]
  },
  {
   "cell_type": "code",
   "execution_count": 59,
   "id": "bf07750c",
   "metadata": {},
   "outputs": [],
   "source": [
    "# Change'person' column name to 'customer_id'\n",
    "transcript = transcript.rename(columns={'time': 'time_days'})"
   ]
  },
  {
   "cell_type": "code",
   "execution_count": 60,
   "id": "106db8b9",
   "metadata": {},
   "outputs": [],
   "source": [
    "#Create seperate Dataframes for Offers and Transactions\n",
    "    \n",
    "#1.Create Dataframe for Transactions\n",
    "transactions = transcript[transcript['event']=='transaction'].drop(['value'], axis =1)\n",
    "transactions = transactions.rename(columns={'offer_id': 'amount'})\n",
    "    \n",
    "    \n",
    "# One hot encode customer offer events\n",
    "transcript = transcript[transcript['event'].isin(['offer received' , \n",
    "                                                      'offer completed', 'offer viewed' ])].drop(['value'], axis =1)\n",
    "event_df = pd.get_dummies(transcript['event'])\n",
    "    \n",
    "#2.Create Dataframe for offers\n",
    "offers = pd.concat([transcript,event_df], axis =1)\n",
    "offers  = offers.rename(columns={'offer completed': 'completed','offer received':'received' , 'offer viewed': 'viewed'})\n"
   ]
  },
  {
   "cell_type": "code",
   "execution_count": 61,
   "id": "0e803af0",
   "metadata": {},
   "outputs": [
    {
     "data": {
      "text/html": [
       "<div>\n",
       "<style scoped>\n",
       "    .dataframe tbody tr th:only-of-type {\n",
       "        vertical-align: middle;\n",
       "    }\n",
       "\n",
       "    .dataframe tbody tr th {\n",
       "        vertical-align: top;\n",
       "    }\n",
       "\n",
       "    .dataframe thead th {\n",
       "        text-align: right;\n",
       "    }\n",
       "</style>\n",
       "<table border=\"1\" class=\"dataframe\">\n",
       "  <thead>\n",
       "    <tr style=\"text-align: right;\">\n",
       "      <th></th>\n",
       "      <th>customer_id</th>\n",
       "      <th>event</th>\n",
       "      <th>time_days</th>\n",
       "      <th>offer_id</th>\n",
       "      <th>completed</th>\n",
       "      <th>received</th>\n",
       "      <th>viewed</th>\n",
       "    </tr>\n",
       "  </thead>\n",
       "  <tbody>\n",
       "    <tr>\n",
       "      <th>0</th>\n",
       "      <td>78afa995795e4d85b5d9ceeca43f5fef</td>\n",
       "      <td>offer received</td>\n",
       "      <td>0</td>\n",
       "      <td>9b98b8c7a33c4b65b9aebfe6a799e6d9</td>\n",
       "      <td>0</td>\n",
       "      <td>1</td>\n",
       "      <td>0</td>\n",
       "    </tr>\n",
       "    <tr>\n",
       "      <th>2</th>\n",
       "      <td>e2127556f4f64592b11af22de27a7932</td>\n",
       "      <td>offer received</td>\n",
       "      <td>0</td>\n",
       "      <td>2906b810c7d4411798c6938adc9daaa5</td>\n",
       "      <td>0</td>\n",
       "      <td>1</td>\n",
       "      <td>0</td>\n",
       "    </tr>\n",
       "    <tr>\n",
       "      <th>5</th>\n",
       "      <td>389bc3fa690240e798340f5a15918d5c</td>\n",
       "      <td>offer received</td>\n",
       "      <td>0</td>\n",
       "      <td>f19421c1d4aa40978ebb69ca19b0e20d</td>\n",
       "      <td>0</td>\n",
       "      <td>1</td>\n",
       "      <td>0</td>\n",
       "    </tr>\n",
       "    <tr>\n",
       "      <th>7</th>\n",
       "      <td>2eeac8d8feae4a8cad5a6af0499a211d</td>\n",
       "      <td>offer received</td>\n",
       "      <td>0</td>\n",
       "      <td>3f207df678b143eea3cee63160fa8bed</td>\n",
       "      <td>0</td>\n",
       "      <td>1</td>\n",
       "      <td>0</td>\n",
       "    </tr>\n",
       "    <tr>\n",
       "      <th>8</th>\n",
       "      <td>aa4862eba776480b8bb9c68455b8c2e1</td>\n",
       "      <td>offer received</td>\n",
       "      <td>0</td>\n",
       "      <td>0b1e1539f2cc45b7b9fa7c272da2e1d7</td>\n",
       "      <td>0</td>\n",
       "      <td>1</td>\n",
       "      <td>0</td>\n",
       "    </tr>\n",
       "  </tbody>\n",
       "</table>\n",
       "</div>"
      ],
      "text/plain": [
       "                        customer_id           event  time_days  \\\n",
       "0  78afa995795e4d85b5d9ceeca43f5fef  offer received          0   \n",
       "2  e2127556f4f64592b11af22de27a7932  offer received          0   \n",
       "5  389bc3fa690240e798340f5a15918d5c  offer received          0   \n",
       "7  2eeac8d8feae4a8cad5a6af0499a211d  offer received          0   \n",
       "8  aa4862eba776480b8bb9c68455b8c2e1  offer received          0   \n",
       "\n",
       "                           offer_id  completed  received  viewed  \n",
       "0  9b98b8c7a33c4b65b9aebfe6a799e6d9          0         1       0  \n",
       "2  2906b810c7d4411798c6938adc9daaa5          0         1       0  \n",
       "5  f19421c1d4aa40978ebb69ca19b0e20d          0         1       0  \n",
       "7  3f207df678b143eea3cee63160fa8bed          0         1       0  \n",
       "8  0b1e1539f2cc45b7b9fa7c272da2e1d7          0         1       0  "
      ]
     },
     "execution_count": 61,
     "metadata": {},
     "output_type": "execute_result"
    }
   ],
   "source": [
    "offers.head()"
   ]
  },
  {
   "cell_type": "code",
   "execution_count": 62,
   "id": "491b7ba7",
   "metadata": {},
   "outputs": [
    {
     "data": {
      "text/html": [
       "<div>\n",
       "<style scoped>\n",
       "    .dataframe tbody tr th:only-of-type {\n",
       "        vertical-align: middle;\n",
       "    }\n",
       "\n",
       "    .dataframe tbody tr th {\n",
       "        vertical-align: top;\n",
       "    }\n",
       "\n",
       "    .dataframe thead th {\n",
       "        text-align: right;\n",
       "    }\n",
       "</style>\n",
       "<table border=\"1\" class=\"dataframe\">\n",
       "  <thead>\n",
       "    <tr style=\"text-align: right;\">\n",
       "      <th></th>\n",
       "      <th>customer_id</th>\n",
       "      <th>event</th>\n",
       "      <th>time_days</th>\n",
       "      <th>amount</th>\n",
       "    </tr>\n",
       "  </thead>\n",
       "  <tbody>\n",
       "    <tr>\n",
       "      <th>12654</th>\n",
       "      <td>02c083884c7d45b39cc68e1314fec56c</td>\n",
       "      <td>transaction</td>\n",
       "      <td>0</td>\n",
       "      <td>0.83</td>\n",
       "    </tr>\n",
       "    <tr>\n",
       "      <th>12657</th>\n",
       "      <td>9fa9ae8f57894cc9a3b8a9bbe0fc1b2f</td>\n",
       "      <td>transaction</td>\n",
       "      <td>0</td>\n",
       "      <td>34.56</td>\n",
       "    </tr>\n",
       "    <tr>\n",
       "      <th>12659</th>\n",
       "      <td>54890f68699049c2a04d415abc25e717</td>\n",
       "      <td>transaction</td>\n",
       "      <td>0</td>\n",
       "      <td>13.23</td>\n",
       "    </tr>\n",
       "    <tr>\n",
       "      <th>12670</th>\n",
       "      <td>b2f1cd155b864803ad8334cdf13c4bd2</td>\n",
       "      <td>transaction</td>\n",
       "      <td>0</td>\n",
       "      <td>19.51</td>\n",
       "    </tr>\n",
       "    <tr>\n",
       "      <th>12671</th>\n",
       "      <td>fe97aa22dd3e48c8b143116a8403dd52</td>\n",
       "      <td>transaction</td>\n",
       "      <td>0</td>\n",
       "      <td>18.97</td>\n",
       "    </tr>\n",
       "  </tbody>\n",
       "</table>\n",
       "</div>"
      ],
      "text/plain": [
       "                            customer_id        event  time_days amount\n",
       "12654  02c083884c7d45b39cc68e1314fec56c  transaction          0   0.83\n",
       "12657  9fa9ae8f57894cc9a3b8a9bbe0fc1b2f  transaction          0  34.56\n",
       "12659  54890f68699049c2a04d415abc25e717  transaction          0  13.23\n",
       "12670  b2f1cd155b864803ad8334cdf13c4bd2  transaction          0  19.51\n",
       "12671  fe97aa22dd3e48c8b143116a8403dd52  transaction          0  18.97"
      ]
     },
     "execution_count": 62,
     "metadata": {},
     "output_type": "execute_result"
    }
   ],
   "source": [
    "transactions.head()"
   ]
  },
  {
   "cell_type": "code",
   "execution_count": 63,
   "id": "00d60f9b",
   "metadata": {},
   "outputs": [],
   "source": [
    "offers_portfolio = pd.merge(offers, portfolio_df, left_on='offer_id', right_on='offer_id', how='inner')"
   ]
  },
  {
   "cell_type": "code",
   "execution_count": 64,
   "id": "738ac6b7",
   "metadata": {},
   "outputs": [
    {
     "data": {
      "text/html": [
       "<div>\n",
       "<style scoped>\n",
       "    .dataframe tbody tr th:only-of-type {\n",
       "        vertical-align: middle;\n",
       "    }\n",
       "\n",
       "    .dataframe tbody tr th {\n",
       "        vertical-align: top;\n",
       "    }\n",
       "\n",
       "    .dataframe thead th {\n",
       "        text-align: right;\n",
       "    }\n",
       "</style>\n",
       "<table border=\"1\" class=\"dataframe\">\n",
       "  <thead>\n",
       "    <tr style=\"text-align: right;\">\n",
       "      <th></th>\n",
       "      <th>customer_id</th>\n",
       "      <th>event</th>\n",
       "      <th>time_days</th>\n",
       "      <th>offer_id</th>\n",
       "      <th>completed</th>\n",
       "      <th>received</th>\n",
       "      <th>viewed</th>\n",
       "      <th>offer_name</th>\n",
       "      <th>offer_type</th>\n",
       "      <th>offer_difficulty</th>\n",
       "      <th>offer_duration</th>\n",
       "      <th>offer_reward</th>\n",
       "      <th>email</th>\n",
       "      <th>mobile</th>\n",
       "      <th>social</th>\n",
       "      <th>web</th>\n",
       "    </tr>\n",
       "  </thead>\n",
       "  <tbody>\n",
       "    <tr>\n",
       "      <th>0</th>\n",
       "      <td>78afa995795e4d85b5d9ceeca43f5fef</td>\n",
       "      <td>offer received</td>\n",
       "      <td>0</td>\n",
       "      <td>9b98b8c7a33c4b65b9aebfe6a799e6d9</td>\n",
       "      <td>0</td>\n",
       "      <td>1</td>\n",
       "      <td>0</td>\n",
       "      <td>of_4</td>\n",
       "      <td>bogo</td>\n",
       "      <td>5</td>\n",
       "      <td>7</td>\n",
       "      <td>5</td>\n",
       "      <td>1</td>\n",
       "      <td>1</td>\n",
       "      <td>0</td>\n",
       "      <td>1</td>\n",
       "    </tr>\n",
       "    <tr>\n",
       "      <th>1</th>\n",
       "      <td>ebe7ef46ea6f4963a7dd49f501b26779</td>\n",
       "      <td>offer received</td>\n",
       "      <td>0</td>\n",
       "      <td>9b98b8c7a33c4b65b9aebfe6a799e6d9</td>\n",
       "      <td>0</td>\n",
       "      <td>1</td>\n",
       "      <td>0</td>\n",
       "      <td>of_4</td>\n",
       "      <td>bogo</td>\n",
       "      <td>5</td>\n",
       "      <td>7</td>\n",
       "      <td>5</td>\n",
       "      <td>1</td>\n",
       "      <td>1</td>\n",
       "      <td>0</td>\n",
       "      <td>1</td>\n",
       "    </tr>\n",
       "    <tr>\n",
       "      <th>2</th>\n",
       "      <td>f082d80f0aac47a99173ba8ef8fc1909</td>\n",
       "      <td>offer received</td>\n",
       "      <td>0</td>\n",
       "      <td>9b98b8c7a33c4b65b9aebfe6a799e6d9</td>\n",
       "      <td>0</td>\n",
       "      <td>1</td>\n",
       "      <td>0</td>\n",
       "      <td>of_4</td>\n",
       "      <td>bogo</td>\n",
       "      <td>5</td>\n",
       "      <td>7</td>\n",
       "      <td>5</td>\n",
       "      <td>1</td>\n",
       "      <td>1</td>\n",
       "      <td>0</td>\n",
       "      <td>1</td>\n",
       "    </tr>\n",
       "    <tr>\n",
       "      <th>3</th>\n",
       "      <td>c0d210398dee4a0895b24444a5fcd1d2</td>\n",
       "      <td>offer received</td>\n",
       "      <td>0</td>\n",
       "      <td>9b98b8c7a33c4b65b9aebfe6a799e6d9</td>\n",
       "      <td>0</td>\n",
       "      <td>1</td>\n",
       "      <td>0</td>\n",
       "      <td>of_4</td>\n",
       "      <td>bogo</td>\n",
       "      <td>5</td>\n",
       "      <td>7</td>\n",
       "      <td>5</td>\n",
       "      <td>1</td>\n",
       "      <td>1</td>\n",
       "      <td>0</td>\n",
       "      <td>1</td>\n",
       "    </tr>\n",
       "    <tr>\n",
       "      <th>4</th>\n",
       "      <td>57dd18ec5ddc46828afb81ec5977bef2</td>\n",
       "      <td>offer received</td>\n",
       "      <td>0</td>\n",
       "      <td>9b98b8c7a33c4b65b9aebfe6a799e6d9</td>\n",
       "      <td>0</td>\n",
       "      <td>1</td>\n",
       "      <td>0</td>\n",
       "      <td>of_4</td>\n",
       "      <td>bogo</td>\n",
       "      <td>5</td>\n",
       "      <td>7</td>\n",
       "      <td>5</td>\n",
       "      <td>1</td>\n",
       "      <td>1</td>\n",
       "      <td>0</td>\n",
       "      <td>1</td>\n",
       "    </tr>\n",
       "  </tbody>\n",
       "</table>\n",
       "</div>"
      ],
      "text/plain": [
       "                        customer_id           event  time_days  \\\n",
       "0  78afa995795e4d85b5d9ceeca43f5fef  offer received          0   \n",
       "1  ebe7ef46ea6f4963a7dd49f501b26779  offer received          0   \n",
       "2  f082d80f0aac47a99173ba8ef8fc1909  offer received          0   \n",
       "3  c0d210398dee4a0895b24444a5fcd1d2  offer received          0   \n",
       "4  57dd18ec5ddc46828afb81ec5977bef2  offer received          0   \n",
       "\n",
       "                           offer_id  completed  received  viewed offer_name  \\\n",
       "0  9b98b8c7a33c4b65b9aebfe6a799e6d9          0         1       0       of_4   \n",
       "1  9b98b8c7a33c4b65b9aebfe6a799e6d9          0         1       0       of_4   \n",
       "2  9b98b8c7a33c4b65b9aebfe6a799e6d9          0         1       0       of_4   \n",
       "3  9b98b8c7a33c4b65b9aebfe6a799e6d9          0         1       0       of_4   \n",
       "4  9b98b8c7a33c4b65b9aebfe6a799e6d9          0         1       0       of_4   \n",
       "\n",
       "  offer_type  offer_difficulty  offer_duration  offer_reward  email  mobile  \\\n",
       "0       bogo                 5               7             5      1       1   \n",
       "1       bogo                 5               7             5      1       1   \n",
       "2       bogo                 5               7             5      1       1   \n",
       "3       bogo                 5               7             5      1       1   \n",
       "4       bogo                 5               7             5      1       1   \n",
       "\n",
       "   social  web  \n",
       "0       0    1  \n",
       "1       0    1  \n",
       "2       0    1  \n",
       "3       0    1  \n",
       "4       0    1  "
      ]
     },
     "execution_count": 64,
     "metadata": {},
     "output_type": "execute_result"
    }
   ],
   "source": [
    "offers_portfolio.head()"
   ]
  },
  {
   "cell_type": "code",
   "execution_count": 65,
   "id": "7c95eeb9",
   "metadata": {},
   "outputs": [],
   "source": [
    "def offer_rate(offers_portfolio, column):\n",
    "    unique_values = offers_portfolio[column].unique()\n",
    "    all_res = []\n",
    "\n",
    "    for value in unique_values:\n",
    "        selected_offers = offers_portfolio[offers_portfolio[column] == value]\n",
    "        grouped = selected_offers.groupby('customer_id').agg({\n",
    "            'received': 'sum',\n",
    "            'viewed': 'sum',\n",
    "            'completed': 'sum'\n",
    "        })\n",
    "\n",
    "        counts = grouped.add_suffix('_count')\n",
    "        counts['viewed_rate'] = counts['viewed_count'] / counts['received_count']\n",
    "        counts['completed_rate'] = counts['completed_count'] / counts['viewed_count']\n",
    "        counts.loc[counts['completed_rate'] > 1, 'completed_rate'] = 1\n",
    "        counts = counts.add_prefix(f'{column}_{value}_')\n",
    "\n",
    "        all_res.append(counts)\n",
    "\n",
    "    return all_res\n"
   ]
  },
  {
   "cell_type": "code",
   "execution_count": 66,
   "id": "9820cc11",
   "metadata": {},
   "outputs": [],
   "source": [
    "def channel_rate(offers_portfolio):\n",
    "    all_res = []\n",
    "    columns = ['mobile', 'social', 'web', 'email']\n",
    "    \n",
    "    for column in columns:\n",
    "        selected_offers = offers_portfolio[(offers_portfolio[column] == 1) & \n",
    "                                           (offers_portfolio['offer_type'] != \"informational\")]\n",
    "        grouped = selected_offers.groupby('customer_id').agg({\n",
    "            'received': 'sum',\n",
    "            'viewed': 'sum',\n",
    "            'completed': 'sum'\n",
    "        })\n",
    "        \n",
    "        counts = grouped.add_suffix('_count')\n",
    "        counts['viewed_rate'] = counts['viewed_count'] / counts['received_count']\n",
    "        counts['completed_rate'] = counts['completed_count'] / counts['viewed_count']\n",
    "        counts.loc[counts['completed_rate'] > 1, 'completed_rate'] = 1\n",
    "        counts = counts.add_prefix(f'{column}_')\n",
    "        \n",
    "        all_res.append(counts)\n",
    "        \n",
    "    return all_res\n"
   ]
  },
  {
   "cell_type": "code",
   "execution_count": 67,
   "id": "8655b24b",
   "metadata": {},
   "outputs": [],
   "source": [
    "# Joining features related to channels\n",
    "offer_channel = channel_rate(offers_portfolio)\n",
    "overall= offer_channel[3]\n",
    "overall.columns = overall.columns.str.replace(\"email_\", \"\")\n",
    "offer_channel_join = offer_channel[0].join(offer_channel[1]).join(offer_channel[2])\n",
    "\n",
    "# Joining features related to duration\n",
    "offer_duration_join = pd.concat(offer_rate(offers_portfolio, column='offer_duration'), axis=1)\n",
    "\n",
    "# Joining features related to offer difficulty\n",
    "offer_difficulty_join = pd.concat(offer_rate(offers_portfolio, column='offer_difficulty'), axis=1)\n",
    "\n",
    "# Joining features related to offer reward\n",
    "offer_reward_join = pd.concat(offer_rate(offers_portfolio, column='offer_reward'), axis=1)\n",
    "\n",
    "# Joining features related to offer types\n",
    "offer_type_join = pd.concat(offer_rate(offers_portfolio, column='offer_type'), axis=1)\n",
    "offer_type_join.columns = offer_type_join.columns.str.replace(\"offer_type_\", \"\")\n",
    "\n",
    "# Joining features related to offer names\n",
    "offer_name_join = pd.concat(offer_rate(offers_portfolio, column='offer_name'), axis=1)\n",
    "offer_name_join.columns = offer_name_join.columns.str.replace(\"offer_name_\", \"\")\n",
    "\n",
    "# Find average Duration, Difficulty, and Reward\n",
    "sum_reward = offers_portfolio[offers_portfolio['completed'] == 1].groupby(['customer_id']).agg({'offer_reward': 'sum'})\n",
    "sum_reward = sum_reward.add_suffix('_sum')\n",
    "\n",
    "# Merge all offer features together\n",
    "cust_offer = pd.concat([\n",
    "    offer_type_join, offer_name_join, offer_difficulty_join,\n",
    "    offer_duration_join, offer_reward_join, sum_reward, offer_channel_join\n",
    "], axis=1)\n"
   ]
  },
  {
   "cell_type": "code",
   "execution_count": 68,
   "id": "ae891ba3",
   "metadata": {},
   "outputs": [
    {
     "data": {
      "text/html": [
       "<div>\n",
       "<style scoped>\n",
       "    .dataframe tbody tr th:only-of-type {\n",
       "        vertical-align: middle;\n",
       "    }\n",
       "\n",
       "    .dataframe tbody tr th {\n",
       "        vertical-align: top;\n",
       "    }\n",
       "\n",
       "    .dataframe thead th {\n",
       "        text-align: right;\n",
       "    }\n",
       "</style>\n",
       "<table border=\"1\" class=\"dataframe\">\n",
       "  <thead>\n",
       "    <tr style=\"text-align: right;\">\n",
       "      <th></th>\n",
       "      <th>bogo_received_count</th>\n",
       "      <th>bogo_viewed_count</th>\n",
       "      <th>bogo_completed_count</th>\n",
       "      <th>bogo_viewed_rate</th>\n",
       "      <th>bogo_completed_rate</th>\n",
       "      <th>discount_received_count</th>\n",
       "      <th>discount_viewed_count</th>\n",
       "      <th>discount_completed_count</th>\n",
       "      <th>discount_viewed_rate</th>\n",
       "      <th>discount_completed_rate</th>\n",
       "      <th>...</th>\n",
       "      <th>social_received_count</th>\n",
       "      <th>social_viewed_count</th>\n",
       "      <th>social_completed_count</th>\n",
       "      <th>social_viewed_rate</th>\n",
       "      <th>social_completed_rate</th>\n",
       "      <th>web_received_count</th>\n",
       "      <th>web_viewed_count</th>\n",
       "      <th>web_completed_count</th>\n",
       "      <th>web_viewed_rate</th>\n",
       "      <th>web_completed_rate</th>\n",
       "    </tr>\n",
       "    <tr>\n",
       "      <th>customer_id</th>\n",
       "      <th></th>\n",
       "      <th></th>\n",
       "      <th></th>\n",
       "      <th></th>\n",
       "      <th></th>\n",
       "      <th></th>\n",
       "      <th></th>\n",
       "      <th></th>\n",
       "      <th></th>\n",
       "      <th></th>\n",
       "      <th></th>\n",
       "      <th></th>\n",
       "      <th></th>\n",
       "      <th></th>\n",
       "      <th></th>\n",
       "      <th></th>\n",
       "      <th></th>\n",
       "      <th></th>\n",
       "      <th></th>\n",
       "      <th></th>\n",
       "      <th></th>\n",
       "    </tr>\n",
       "  </thead>\n",
       "  <tbody>\n",
       "    <tr>\n",
       "      <th>0009655768c64bdeb2e877511632db8f</th>\n",
       "      <td>1.0</td>\n",
       "      <td>1.0</td>\n",
       "      <td>1.0</td>\n",
       "      <td>1.0</td>\n",
       "      <td>1.0</td>\n",
       "      <td>2.0</td>\n",
       "      <td>1.0</td>\n",
       "      <td>2.0</td>\n",
       "      <td>0.5</td>\n",
       "      <td>1.0</td>\n",
       "      <td>...</td>\n",
       "      <td>2.0</td>\n",
       "      <td>2.0</td>\n",
       "      <td>2.0</td>\n",
       "      <td>1.0</td>\n",
       "      <td>1.0</td>\n",
       "      <td>3.0</td>\n",
       "      <td>2.0</td>\n",
       "      <td>3.0</td>\n",
       "      <td>0.666667</td>\n",
       "      <td>1.0</td>\n",
       "    </tr>\n",
       "    <tr>\n",
       "      <th>0011e0d4e6b944f998e987f904e8c1e5</th>\n",
       "      <td>1.0</td>\n",
       "      <td>1.0</td>\n",
       "      <td>1.0</td>\n",
       "      <td>1.0</td>\n",
       "      <td>1.0</td>\n",
       "      <td>2.0</td>\n",
       "      <td>2.0</td>\n",
       "      <td>2.0</td>\n",
       "      <td>1.0</td>\n",
       "      <td>1.0</td>\n",
       "      <td>...</td>\n",
       "      <td>1.0</td>\n",
       "      <td>1.0</td>\n",
       "      <td>1.0</td>\n",
       "      <td>1.0</td>\n",
       "      <td>1.0</td>\n",
       "      <td>3.0</td>\n",
       "      <td>3.0</td>\n",
       "      <td>3.0</td>\n",
       "      <td>1.000000</td>\n",
       "      <td>1.0</td>\n",
       "    </tr>\n",
       "    <tr>\n",
       "      <th>0020c2b971eb4e9188eac86d93036a77</th>\n",
       "      <td>2.0</td>\n",
       "      <td>1.0</td>\n",
       "      <td>1.0</td>\n",
       "      <td>0.5</td>\n",
       "      <td>1.0</td>\n",
       "      <td>2.0</td>\n",
       "      <td>1.0</td>\n",
       "      <td>2.0</td>\n",
       "      <td>0.5</td>\n",
       "      <td>1.0</td>\n",
       "      <td>...</td>\n",
       "      <td>4.0</td>\n",
       "      <td>2.0</td>\n",
       "      <td>3.0</td>\n",
       "      <td>0.5</td>\n",
       "      <td>1.0</td>\n",
       "      <td>3.0</td>\n",
       "      <td>2.0</td>\n",
       "      <td>3.0</td>\n",
       "      <td>0.666667</td>\n",
       "      <td>1.0</td>\n",
       "    </tr>\n",
       "    <tr>\n",
       "      <th>0020ccbbb6d84e358d3414a3ff76cffd</th>\n",
       "      <td>2.0</td>\n",
       "      <td>2.0</td>\n",
       "      <td>2.0</td>\n",
       "      <td>1.0</td>\n",
       "      <td>1.0</td>\n",
       "      <td>1.0</td>\n",
       "      <td>1.0</td>\n",
       "      <td>1.0</td>\n",
       "      <td>1.0</td>\n",
       "      <td>1.0</td>\n",
       "      <td>...</td>\n",
       "      <td>2.0</td>\n",
       "      <td>2.0</td>\n",
       "      <td>2.0</td>\n",
       "      <td>1.0</td>\n",
       "      <td>1.0</td>\n",
       "      <td>3.0</td>\n",
       "      <td>3.0</td>\n",
       "      <td>3.0</td>\n",
       "      <td>1.000000</td>\n",
       "      <td>1.0</td>\n",
       "    </tr>\n",
       "    <tr>\n",
       "      <th>004b041fbfe44859945daa2c7f79ee64</th>\n",
       "      <td>1.0</td>\n",
       "      <td>1.0</td>\n",
       "      <td>1.0</td>\n",
       "      <td>1.0</td>\n",
       "      <td>1.0</td>\n",
       "      <td>1.0</td>\n",
       "      <td>1.0</td>\n",
       "      <td>1.0</td>\n",
       "      <td>1.0</td>\n",
       "      <td>1.0</td>\n",
       "      <td>...</td>\n",
       "      <td>2.0</td>\n",
       "      <td>2.0</td>\n",
       "      <td>2.0</td>\n",
       "      <td>1.0</td>\n",
       "      <td>1.0</td>\n",
       "      <td>2.0</td>\n",
       "      <td>2.0</td>\n",
       "      <td>2.0</td>\n",
       "      <td>1.000000</td>\n",
       "      <td>1.0</td>\n",
       "    </tr>\n",
       "  </tbody>\n",
       "</table>\n",
       "<p>5 rows × 156 columns</p>\n",
       "</div>"
      ],
      "text/plain": [
       "                                  bogo_received_count  bogo_viewed_count  \\\n",
       "customer_id                                                                \n",
       "0009655768c64bdeb2e877511632db8f                  1.0                1.0   \n",
       "0011e0d4e6b944f998e987f904e8c1e5                  1.0                1.0   \n",
       "0020c2b971eb4e9188eac86d93036a77                  2.0                1.0   \n",
       "0020ccbbb6d84e358d3414a3ff76cffd                  2.0                2.0   \n",
       "004b041fbfe44859945daa2c7f79ee64                  1.0                1.0   \n",
       "\n",
       "                                  bogo_completed_count  bogo_viewed_rate  \\\n",
       "customer_id                                                                \n",
       "0009655768c64bdeb2e877511632db8f                   1.0               1.0   \n",
       "0011e0d4e6b944f998e987f904e8c1e5                   1.0               1.0   \n",
       "0020c2b971eb4e9188eac86d93036a77                   1.0               0.5   \n",
       "0020ccbbb6d84e358d3414a3ff76cffd                   2.0               1.0   \n",
       "004b041fbfe44859945daa2c7f79ee64                   1.0               1.0   \n",
       "\n",
       "                                  bogo_completed_rate  \\\n",
       "customer_id                                             \n",
       "0009655768c64bdeb2e877511632db8f                  1.0   \n",
       "0011e0d4e6b944f998e987f904e8c1e5                  1.0   \n",
       "0020c2b971eb4e9188eac86d93036a77                  1.0   \n",
       "0020ccbbb6d84e358d3414a3ff76cffd                  1.0   \n",
       "004b041fbfe44859945daa2c7f79ee64                  1.0   \n",
       "\n",
       "                                  discount_received_count  \\\n",
       "customer_id                                                 \n",
       "0009655768c64bdeb2e877511632db8f                      2.0   \n",
       "0011e0d4e6b944f998e987f904e8c1e5                      2.0   \n",
       "0020c2b971eb4e9188eac86d93036a77                      2.0   \n",
       "0020ccbbb6d84e358d3414a3ff76cffd                      1.0   \n",
       "004b041fbfe44859945daa2c7f79ee64                      1.0   \n",
       "\n",
       "                                  discount_viewed_count  \\\n",
       "customer_id                                               \n",
       "0009655768c64bdeb2e877511632db8f                    1.0   \n",
       "0011e0d4e6b944f998e987f904e8c1e5                    2.0   \n",
       "0020c2b971eb4e9188eac86d93036a77                    1.0   \n",
       "0020ccbbb6d84e358d3414a3ff76cffd                    1.0   \n",
       "004b041fbfe44859945daa2c7f79ee64                    1.0   \n",
       "\n",
       "                                  discount_completed_count  \\\n",
       "customer_id                                                  \n",
       "0009655768c64bdeb2e877511632db8f                       2.0   \n",
       "0011e0d4e6b944f998e987f904e8c1e5                       2.0   \n",
       "0020c2b971eb4e9188eac86d93036a77                       2.0   \n",
       "0020ccbbb6d84e358d3414a3ff76cffd                       1.0   \n",
       "004b041fbfe44859945daa2c7f79ee64                       1.0   \n",
       "\n",
       "                                  discount_viewed_rate  \\\n",
       "customer_id                                              \n",
       "0009655768c64bdeb2e877511632db8f                   0.5   \n",
       "0011e0d4e6b944f998e987f904e8c1e5                   1.0   \n",
       "0020c2b971eb4e9188eac86d93036a77                   0.5   \n",
       "0020ccbbb6d84e358d3414a3ff76cffd                   1.0   \n",
       "004b041fbfe44859945daa2c7f79ee64                   1.0   \n",
       "\n",
       "                                  discount_completed_rate  ...  \\\n",
       "customer_id                                                ...   \n",
       "0009655768c64bdeb2e877511632db8f                      1.0  ...   \n",
       "0011e0d4e6b944f998e987f904e8c1e5                      1.0  ...   \n",
       "0020c2b971eb4e9188eac86d93036a77                      1.0  ...   \n",
       "0020ccbbb6d84e358d3414a3ff76cffd                      1.0  ...   \n",
       "004b041fbfe44859945daa2c7f79ee64                      1.0  ...   \n",
       "\n",
       "                                  social_received_count  social_viewed_count  \\\n",
       "customer_id                                                                    \n",
       "0009655768c64bdeb2e877511632db8f                    2.0                  2.0   \n",
       "0011e0d4e6b944f998e987f904e8c1e5                    1.0                  1.0   \n",
       "0020c2b971eb4e9188eac86d93036a77                    4.0                  2.0   \n",
       "0020ccbbb6d84e358d3414a3ff76cffd                    2.0                  2.0   \n",
       "004b041fbfe44859945daa2c7f79ee64                    2.0                  2.0   \n",
       "\n",
       "                                  social_completed_count  social_viewed_rate  \\\n",
       "customer_id                                                                    \n",
       "0009655768c64bdeb2e877511632db8f                     2.0                 1.0   \n",
       "0011e0d4e6b944f998e987f904e8c1e5                     1.0                 1.0   \n",
       "0020c2b971eb4e9188eac86d93036a77                     3.0                 0.5   \n",
       "0020ccbbb6d84e358d3414a3ff76cffd                     2.0                 1.0   \n",
       "004b041fbfe44859945daa2c7f79ee64                     2.0                 1.0   \n",
       "\n",
       "                                  social_completed_rate  web_received_count  \\\n",
       "customer_id                                                                   \n",
       "0009655768c64bdeb2e877511632db8f                    1.0                 3.0   \n",
       "0011e0d4e6b944f998e987f904e8c1e5                    1.0                 3.0   \n",
       "0020c2b971eb4e9188eac86d93036a77                    1.0                 3.0   \n",
       "0020ccbbb6d84e358d3414a3ff76cffd                    1.0                 3.0   \n",
       "004b041fbfe44859945daa2c7f79ee64                    1.0                 2.0   \n",
       "\n",
       "                                  web_viewed_count  web_completed_count  \\\n",
       "customer_id                                                               \n",
       "0009655768c64bdeb2e877511632db8f               2.0                  3.0   \n",
       "0011e0d4e6b944f998e987f904e8c1e5               3.0                  3.0   \n",
       "0020c2b971eb4e9188eac86d93036a77               2.0                  3.0   \n",
       "0020ccbbb6d84e358d3414a3ff76cffd               3.0                  3.0   \n",
       "004b041fbfe44859945daa2c7f79ee64               2.0                  2.0   \n",
       "\n",
       "                                  web_viewed_rate  web_completed_rate  \n",
       "customer_id                                                            \n",
       "0009655768c64bdeb2e877511632db8f         0.666667                 1.0  \n",
       "0011e0d4e6b944f998e987f904e8c1e5         1.000000                 1.0  \n",
       "0020c2b971eb4e9188eac86d93036a77         0.666667                 1.0  \n",
       "0020ccbbb6d84e358d3414a3ff76cffd         1.000000                 1.0  \n",
       "004b041fbfe44859945daa2c7f79ee64         1.000000                 1.0  \n",
       "\n",
       "[5 rows x 156 columns]"
      ]
     },
     "execution_count": 68,
     "metadata": {},
     "output_type": "execute_result"
    }
   ],
   "source": [
    "cust_offer.head()"
   ]
  },
  {
   "cell_type": "code",
   "execution_count": 69,
   "id": "525b5fe2",
   "metadata": {},
   "outputs": [
    {
     "data": {
      "text/html": [
       "<div>\n",
       "<style scoped>\n",
       "    .dataframe tbody tr th:only-of-type {\n",
       "        vertical-align: middle;\n",
       "    }\n",
       "\n",
       "    .dataframe tbody tr th {\n",
       "        vertical-align: top;\n",
       "    }\n",
       "\n",
       "    .dataframe thead th {\n",
       "        text-align: right;\n",
       "    }\n",
       "</style>\n",
       "<table border=\"1\" class=\"dataframe\">\n",
       "  <thead>\n",
       "    <tr style=\"text-align: right;\">\n",
       "      <th></th>\n",
       "      <th>customer_id</th>\n",
       "      <th>gender</th>\n",
       "      <th>age</th>\n",
       "      <th>age_group</th>\n",
       "      <th>customer_income</th>\n",
       "      <th>customer_income_range</th>\n",
       "      <th>became_member_on</th>\n",
       "      <th>year_joined</th>\n",
       "      <th>gender_F</th>\n",
       "      <th>gender_M</th>\n",
       "      <th>...</th>\n",
       "      <th>social_received_count</th>\n",
       "      <th>social_viewed_count</th>\n",
       "      <th>social_completed_count</th>\n",
       "      <th>social_viewed_rate</th>\n",
       "      <th>social_completed_rate</th>\n",
       "      <th>web_received_count</th>\n",
       "      <th>web_viewed_count</th>\n",
       "      <th>web_completed_count</th>\n",
       "      <th>web_viewed_rate</th>\n",
       "      <th>web_completed_rate</th>\n",
       "    </tr>\n",
       "  </thead>\n",
       "  <tbody>\n",
       "    <tr>\n",
       "      <th>0</th>\n",
       "      <td>0610b486422d4921ae7d2bf64640c50b</td>\n",
       "      <td>F</td>\n",
       "      <td>55</td>\n",
       "      <td>44-56</td>\n",
       "      <td>112000.0</td>\n",
       "      <td>&gt;$100K</td>\n",
       "      <td>2017-07-15</td>\n",
       "      <td>2017</td>\n",
       "      <td>1</td>\n",
       "      <td>0</td>\n",
       "      <td>...</td>\n",
       "      <td>NaN</td>\n",
       "      <td>NaN</td>\n",
       "      <td>NaN</td>\n",
       "      <td>NaN</td>\n",
       "      <td>NaN</td>\n",
       "      <td>1.0</td>\n",
       "      <td>0.0</td>\n",
       "      <td>1.0</td>\n",
       "      <td>0.0</td>\n",
       "      <td>1.000000</td>\n",
       "    </tr>\n",
       "    <tr>\n",
       "      <th>1</th>\n",
       "      <td>78afa995795e4d85b5d9ceeca43f5fef</td>\n",
       "      <td>F</td>\n",
       "      <td>75</td>\n",
       "      <td>57-75</td>\n",
       "      <td>100000.0</td>\n",
       "      <td>&gt;$100K</td>\n",
       "      <td>2017-05-09</td>\n",
       "      <td>2017</td>\n",
       "      <td>1</td>\n",
       "      <td>0</td>\n",
       "      <td>...</td>\n",
       "      <td>2.0</td>\n",
       "      <td>2.0</td>\n",
       "      <td>2.0</td>\n",
       "      <td>1.0</td>\n",
       "      <td>1.0</td>\n",
       "      <td>2.0</td>\n",
       "      <td>2.0</td>\n",
       "      <td>2.0</td>\n",
       "      <td>1.0</td>\n",
       "      <td>1.000000</td>\n",
       "    </tr>\n",
       "    <tr>\n",
       "      <th>2</th>\n",
       "      <td>e2127556f4f64592b11af22de27a7932</td>\n",
       "      <td>M</td>\n",
       "      <td>68</td>\n",
       "      <td>57-75</td>\n",
       "      <td>70000.0</td>\n",
       "      <td>$(50,000-74,999)</td>\n",
       "      <td>2018-04-26</td>\n",
       "      <td>2018</td>\n",
       "      <td>0</td>\n",
       "      <td>1</td>\n",
       "      <td>...</td>\n",
       "      <td>1.0</td>\n",
       "      <td>1.0</td>\n",
       "      <td>1.0</td>\n",
       "      <td>1.0</td>\n",
       "      <td>1.0</td>\n",
       "      <td>3.0</td>\n",
       "      <td>3.0</td>\n",
       "      <td>2.0</td>\n",
       "      <td>1.0</td>\n",
       "      <td>0.666667</td>\n",
       "    </tr>\n",
       "  </tbody>\n",
       "</table>\n",
       "<p>3 rows × 182 columns</p>\n",
       "</div>"
      ],
      "text/plain": [
       "                        customer_id gender  age age_group  customer_income  \\\n",
       "0  0610b486422d4921ae7d2bf64640c50b      F   55     44-56         112000.0   \n",
       "1  78afa995795e4d85b5d9ceeca43f5fef      F   75     57-75         100000.0   \n",
       "2  e2127556f4f64592b11af22de27a7932      M   68     57-75          70000.0   \n",
       "\n",
       "  customer_income_range became_member_on  year_joined  gender_F  gender_M  \\\n",
       "0                >$100K       2017-07-15         2017         1         0   \n",
       "1                >$100K       2017-05-09         2017         1         0   \n",
       "2      $(50,000-74,999)       2018-04-26         2018         0         1   \n",
       "\n",
       "   ...  social_received_count  social_viewed_count  social_completed_count  \\\n",
       "0  ...                    NaN                  NaN                     NaN   \n",
       "1  ...                    2.0                  2.0                     2.0   \n",
       "2  ...                    1.0                  1.0                     1.0   \n",
       "\n",
       "   social_viewed_rate  social_completed_rate  web_received_count  \\\n",
       "0                 NaN                    NaN                 1.0   \n",
       "1                 1.0                    1.0                 2.0   \n",
       "2                 1.0                    1.0                 3.0   \n",
       "\n",
       "   web_viewed_count  web_completed_count  web_viewed_rate  web_completed_rate  \n",
       "0               0.0                  1.0              0.0            1.000000  \n",
       "1               2.0                  2.0              1.0            1.000000  \n",
       "2               3.0                  2.0              1.0            0.666667  \n",
       "\n",
       "[3 rows x 182 columns]"
      ]
     },
     "execution_count": 69,
     "metadata": {},
     "output_type": "execute_result"
    }
   ],
   "source": [
    "\n",
    "profile_offer = pd.merge(profile_df, cust_offer, on= 'customer_id')\n",
    "profile_offer.head(3)"
   ]
  },
  {
   "cell_type": "markdown",
   "id": "87f5caea",
   "metadata": {},
   "source": [
    "## RFM Analysis"
   ]
  },
  {
   "cell_type": "code",
   "execution_count": 70,
   "id": "09a85ab3",
   "metadata": {},
   "outputs": [],
   "source": [
    "#Function to calcuate the most (R)ecent purchase,(F)requecny of purchase, and the (M)onetry sum of total purchase.\n",
    "\n",
    "def rfm_funct(transactions = transactions):\n",
    "    \n",
    "    \n",
    "    \n",
    "    rfm_df = transactions.groupby('customer_id').agg(\n",
    "    {'time_days': 'max' ,'amount': ['count', 'sum'] }).reset_index(col_level=1)\n",
    "    \n",
    "    rfm_df.columns = ['customer_id' , 'time_days'  ,'Frequency', 'Monetary']\n",
    "    \n",
    "    rfm_df = rfm_df.sort_values(['time_days', 'Frequency', 'Monetary'], ascending=False)\n",
    "    \n",
    "    rfm_df['Recency']  = rfm_df['time_days'].max() - rfm_df['time_days']\n",
    "    \n",
    "    rfm_df = rfm_df[['customer_id', 'Recency', 'Frequency', 'Monetary']]\n",
    "    \n",
    "    return rfm_df\n",
    "\n",
    "\n",
    "rfm_df = rfm_funct(transactions)"
   ]
  },
  {
   "cell_type": "markdown",
   "id": "79b2fbc0",
   "metadata": {},
   "source": [
    "#### Scaling Data"
   ]
  },
  {
   "cell_type": "code",
   "execution_count": 71,
   "id": "8b1e5259",
   "metadata": {},
   "outputs": [],
   "source": [
    "#Since the recency, frequency and monetary data is highly skewed to right. We perform normalization \n",
    "scaler = MinMaxScaler()\n",
    "rfm_normalized = pd.DataFrame(scaler.fit_transform(rfm_df[['Recency', 'Frequency', 'Monetary']]))\n",
    "rfm_normalized.columns = ['Recency', 'Frequency', 'Monetary']"
   ]
  },
  {
   "cell_type": "code",
   "execution_count": 72,
   "id": "974c6fca",
   "metadata": {},
   "outputs": [],
   "source": [
    "from sklearn import preprocessing\n",
    "d = preprocessing.normalize(rfm_df[['Recency', 'Frequency', 'Monetary']], axis=0)\n",
    "scaled_df = pd.DataFrame(d, columns=['Recency', 'Frequency', 'Monetary'])"
   ]
  },
  {
   "cell_type": "code",
   "execution_count": 73,
   "id": "5c782756",
   "metadata": {},
   "outputs": [
    {
     "data": {
      "text/html": [
       "<div>\n",
       "<style scoped>\n",
       "    .dataframe tbody tr th:only-of-type {\n",
       "        vertical-align: middle;\n",
       "    }\n",
       "\n",
       "    .dataframe tbody tr th {\n",
       "        vertical-align: top;\n",
       "    }\n",
       "\n",
       "    .dataframe thead th {\n",
       "        text-align: right;\n",
       "    }\n",
       "</style>\n",
       "<table border=\"1\" class=\"dataframe\">\n",
       "  <thead>\n",
       "    <tr style=\"text-align: right;\">\n",
       "      <th></th>\n",
       "      <th>Recency</th>\n",
       "      <th>Frequency</th>\n",
       "      <th>Monetary</th>\n",
       "    </tr>\n",
       "  </thead>\n",
       "  <tbody>\n",
       "    <tr>\n",
       "      <th>0</th>\n",
       "      <td>0.0</td>\n",
       "      <td>1.000000</td>\n",
       "      <td>0.107713</td>\n",
       "    </tr>\n",
       "    <tr>\n",
       "      <th>1</th>\n",
       "      <td>0.0</td>\n",
       "      <td>0.971429</td>\n",
       "      <td>0.056001</td>\n",
       "    </tr>\n",
       "    <tr>\n",
       "      <th>2</th>\n",
       "      <td>0.0</td>\n",
       "      <td>0.857143</td>\n",
       "      <td>0.286558</td>\n",
       "    </tr>\n",
       "    <tr>\n",
       "      <th>3</th>\n",
       "      <td>0.0</td>\n",
       "      <td>0.828571</td>\n",
       "      <td>0.445783</td>\n",
       "    </tr>\n",
       "    <tr>\n",
       "      <th>4</th>\n",
       "      <td>0.0</td>\n",
       "      <td>0.828571</td>\n",
       "      <td>0.161973</td>\n",
       "    </tr>\n",
       "  </tbody>\n",
       "</table>\n",
       "</div>"
      ],
      "text/plain": [
       "   Recency  Frequency  Monetary\n",
       "0      0.0   1.000000  0.107713\n",
       "1      0.0   0.971429  0.056001\n",
       "2      0.0   0.857143  0.286558\n",
       "3      0.0   0.828571  0.445783\n",
       "4      0.0   0.828571  0.161973"
      ]
     },
     "execution_count": 73,
     "metadata": {},
     "output_type": "execute_result"
    }
   ],
   "source": [
    "rfm_normalized.head()"
   ]
  },
  {
   "cell_type": "code",
   "execution_count": 74,
   "id": "f5e00ebf",
   "metadata": {},
   "outputs": [],
   "source": [
    "#Assign recency variables to four equal quartile groups\n",
    "r_labels = range(4,0,-1)\n",
    "r_groups = pd.qcut(rfm_df['Recency'], q=4, labels= r_labels)\n",
    "rfm_df['r_score'] = pd.DataFrame(r_groups)\n",
    "\n",
    "#Assign recency variables to four equal quartile groups\n",
    "f_labels = range(1,5)\n",
    "f_groups = pd.qcut(rfm_df['Frequency'], q=4, labels= f_labels)\n",
    "rfm_df['f_score'] = pd.DataFrame(f_groups)\n",
    "\n",
    "#Assign recency variables to four equal quartile groups\n",
    "m_labels = range(1,5)\n",
    "m_groups = pd.qcut(rfm_df['Monetary'], q=4, labels= m_labels)\n",
    "rfm_df['m_score'] = pd.DataFrame(m_groups)\n"
   ]
  },
  {
   "cell_type": "code",
   "execution_count": 75,
   "id": "8e4e3515",
   "metadata": {},
   "outputs": [
    {
     "data": {
      "text/html": [
       "<div>\n",
       "<style scoped>\n",
       "    .dataframe tbody tr th:only-of-type {\n",
       "        vertical-align: middle;\n",
       "    }\n",
       "\n",
       "    .dataframe tbody tr th {\n",
       "        vertical-align: top;\n",
       "    }\n",
       "\n",
       "    .dataframe thead th {\n",
       "        text-align: right;\n",
       "    }\n",
       "</style>\n",
       "<table border=\"1\" class=\"dataframe\">\n",
       "  <thead>\n",
       "    <tr style=\"text-align: right;\">\n",
       "      <th></th>\n",
       "      <th>customer_id</th>\n",
       "      <th>Recency</th>\n",
       "      <th>Frequency</th>\n",
       "      <th>Monetary</th>\n",
       "      <th>r_score</th>\n",
       "      <th>f_score</th>\n",
       "      <th>m_score</th>\n",
       "    </tr>\n",
       "  </thead>\n",
       "  <tbody>\n",
       "    <tr>\n",
       "      <th>6887</th>\n",
       "      <td>79d9d4f86aca4bed9290350fb43817c2</td>\n",
       "      <td>0</td>\n",
       "      <td>36</td>\n",
       "      <td>173.41</td>\n",
       "      <td>4</td>\n",
       "      <td>4</td>\n",
       "      <td>4</td>\n",
       "    </tr>\n",
       "    <tr>\n",
       "      <th>8472</th>\n",
       "      <td>94de646f7b6041228ca7dec82adb97d2</td>\n",
       "      <td>0</td>\n",
       "      <td>35</td>\n",
       "      <td>90.23</td>\n",
       "      <td>4</td>\n",
       "      <td>4</td>\n",
       "      <td>3</td>\n",
       "    </tr>\n",
       "    <tr>\n",
       "      <th>9377</th>\n",
       "      <td>a42ed50acc4d4b25bca647c9e0b916ad</td>\n",
       "      <td>0</td>\n",
       "      <td>31</td>\n",
       "      <td>461.09</td>\n",
       "      <td>4</td>\n",
       "      <td>4</td>\n",
       "      <td>4</td>\n",
       "    </tr>\n",
       "    <tr>\n",
       "      <th>9774</th>\n",
       "      <td>ab25fd6fbd5040f880751921e4029757</td>\n",
       "      <td>0</td>\n",
       "      <td>30</td>\n",
       "      <td>717.21</td>\n",
       "      <td>4</td>\n",
       "      <td>4</td>\n",
       "      <td>4</td>\n",
       "    </tr>\n",
       "    <tr>\n",
       "      <th>11825</th>\n",
       "      <td>d0a80415b84c4df4908b8403b19765e3</td>\n",
       "      <td>0</td>\n",
       "      <td>30</td>\n",
       "      <td>260.69</td>\n",
       "      <td>4</td>\n",
       "      <td>4</td>\n",
       "      <td>4</td>\n",
       "    </tr>\n",
       "  </tbody>\n",
       "</table>\n",
       "</div>"
      ],
      "text/plain": [
       "                            customer_id  Recency  Frequency  Monetary  \\\n",
       "6887   79d9d4f86aca4bed9290350fb43817c2        0         36    173.41   \n",
       "8472   94de646f7b6041228ca7dec82adb97d2        0         35     90.23   \n",
       "9377   a42ed50acc4d4b25bca647c9e0b916ad        0         31    461.09   \n",
       "9774   ab25fd6fbd5040f880751921e4029757        0         30    717.21   \n",
       "11825  d0a80415b84c4df4908b8403b19765e3        0         30    260.69   \n",
       "\n",
       "       r_score  f_score  m_score  \n",
       "6887         4        4        4  \n",
       "8472         4        4        3  \n",
       "9377         4        4        4  \n",
       "9774         4        4        4  \n",
       "11825        4        4        4  "
      ]
     },
     "execution_count": 75,
     "metadata": {},
     "output_type": "execute_result"
    }
   ],
   "source": [
    "rfm_df.head()"
   ]
  },
  {
   "cell_type": "markdown",
   "id": "784a8aa8",
   "metadata": {},
   "source": [
    "## KMeans "
   ]
  },
  {
   "cell_type": "markdown",
   "id": "549dd2ec",
   "metadata": {},
   "source": [
    "#### Elbow method"
   ]
  },
  {
   "cell_type": "code",
   "execution_count": 76,
   "id": "3b313f53",
   "metadata": {},
   "outputs": [
    {
     "data": {
      "image/png": "[encoded data removed]",
      "text/plain": [
       "<Figure size 576x396 with 2 Axes>"
      ]
     },
     "metadata": {},
     "output_type": "display_data"
    }
   ],
   "source": [
    "#Use elbow method to determine the optimum number of clusters needed \n",
    "kelbow_visualizer(KMeans(), rfm_df.iloc[:,4:7], k=(1,14));"
   ]
  },
  {
   "cell_type": "code",
   "execution_count": 77,
   "id": "0f6b4908",
   "metadata": {},
   "outputs": [],
   "source": [
    "kmeans1 = KMeans(n_clusters = 4,init = 'k-means++', random_state = 42)\n",
    "kmeans1.fit(rfm_df.iloc[:,4:7])\n",
    "centers = kmeans1.cluster_centers_"
   ]
  },
  {
   "cell_type": "code",
   "execution_count": 78,
   "id": "cbfa7f94",
   "metadata": {},
   "outputs": [],
   "source": [
    "df = rfm_df.iloc[:,4:7] \n",
    "df.columns = df[['r_score', 'f_score', 'm_score']].columns\n",
    "df['index_a'] = rfm_df.index\n",
    "df['rfm_cluster'] = kmeans1.labels_"
   ]
  },
  {
   "cell_type": "code",
   "execution_count": 79,
   "id": "2964a9cc",
   "metadata": {},
   "outputs": [],
   "source": [
    "rfm_df['rfm_segment']= df['rfm_cluster'].copy()\n",
    "rfm_df['rfm_cluster'] = df['rfm_cluster'].copy()\n",
    "rfm_df['rfm_segment'] = rfm_df['rfm_segment'].replace([0,1,2,3], ['High value','New Customer',\n",
    "                                                                  'Best Customer','Low Value Customer'])"
   ]
  },
  {
   "cell_type": "code",
   "execution_count": 80,
   "id": "138f2006",
   "metadata": {},
   "outputs": [
    {
     "data": {
      "text/html": [
       "<div>\n",
       "<style scoped>\n",
       "    .dataframe tbody tr th:only-of-type {\n",
       "        vertical-align: middle;\n",
       "    }\n",
       "\n",
       "    .dataframe tbody tr th {\n",
       "        vertical-align: top;\n",
       "    }\n",
       "\n",
       "    .dataframe thead tr th {\n",
       "        text-align: left;\n",
       "    }\n",
       "\n",
       "    .dataframe thead tr:last-of-type th {\n",
       "        text-align: right;\n",
       "    }\n",
       "</style>\n",
       "<table border=\"1\" class=\"dataframe\">\n",
       "  <thead>\n",
       "    <tr>\n",
       "      <th></th>\n",
       "      <th colspan=\"5\" halign=\"left\">Recency</th>\n",
       "      <th colspan=\"5\" halign=\"left\">Frequency</th>\n",
       "      <th colspan=\"5\" halign=\"left\">Monetary</th>\n",
       "    </tr>\n",
       "    <tr>\n",
       "      <th></th>\n",
       "      <th>count</th>\n",
       "      <th>mean</th>\n",
       "      <th>median</th>\n",
       "      <th>min</th>\n",
       "      <th>max</th>\n",
       "      <th>count</th>\n",
       "      <th>mean</th>\n",
       "      <th>median</th>\n",
       "      <th>min</th>\n",
       "      <th>max</th>\n",
       "      <th>count</th>\n",
       "      <th>mean</th>\n",
       "      <th>median</th>\n",
       "      <th>min</th>\n",
       "      <th>max</th>\n",
       "    </tr>\n",
       "    <tr>\n",
       "      <th>rfm_segment</th>\n",
       "      <th></th>\n",
       "      <th></th>\n",
       "      <th></th>\n",
       "      <th></th>\n",
       "      <th></th>\n",
       "      <th></th>\n",
       "      <th></th>\n",
       "      <th></th>\n",
       "      <th></th>\n",
       "      <th></th>\n",
       "      <th></th>\n",
       "      <th></th>\n",
       "      <th></th>\n",
       "      <th></th>\n",
       "      <th></th>\n",
       "    </tr>\n",
       "  </thead>\n",
       "  <tbody>\n",
       "    <tr>\n",
       "      <th>Best Customer</th>\n",
       "      <td>2834</td>\n",
       "      <td>4.617502</td>\n",
       "      <td>4</td>\n",
       "      <td>2</td>\n",
       "      <td>18</td>\n",
       "      <td>2834</td>\n",
       "      <td>10.261468</td>\n",
       "      <td>9</td>\n",
       "      <td>2</td>\n",
       "      <td>29</td>\n",
       "      <td>2834</td>\n",
       "      <td>182.969012</td>\n",
       "      <td>155.475</td>\n",
       "      <td>18.91</td>\n",
       "      <td>1327.74</td>\n",
       "    </tr>\n",
       "    <tr>\n",
       "      <th>High value</th>\n",
       "      <td>4737</td>\n",
       "      <td>0.820562</td>\n",
       "      <td>1</td>\n",
       "      <td>0</td>\n",
       "      <td>2</td>\n",
       "      <td>4737</td>\n",
       "      <td>13.147351</td>\n",
       "      <td>12</td>\n",
       "      <td>6</td>\n",
       "      <td>36</td>\n",
       "      <td>4737</td>\n",
       "      <td>178.605651</td>\n",
       "      <td>159.380</td>\n",
       "      <td>15.29</td>\n",
       "      <td>1608.69</td>\n",
       "    </tr>\n",
       "    <tr>\n",
       "      <th>Low Value Customer</th>\n",
       "      <td>3104</td>\n",
       "      <td>0.932023</td>\n",
       "      <td>1</td>\n",
       "      <td>0</td>\n",
       "      <td>2</td>\n",
       "      <td>3104</td>\n",
       "      <td>5.352771</td>\n",
       "      <td>5</td>\n",
       "      <td>1</td>\n",
       "      <td>11</td>\n",
       "      <td>3104</td>\n",
       "      <td>63.117152</td>\n",
       "      <td>42.470</td>\n",
       "      <td>0.47</td>\n",
       "      <td>1153.11</td>\n",
       "    </tr>\n",
       "    <tr>\n",
       "      <th>New Customer</th>\n",
       "      <td>3817</td>\n",
       "      <td>6.746660</td>\n",
       "      <td>6</td>\n",
       "      <td>3</td>\n",
       "      <td>29</td>\n",
       "      <td>3817</td>\n",
       "      <td>4.187058</td>\n",
       "      <td>4</td>\n",
       "      <td>1</td>\n",
       "      <td>11</td>\n",
       "      <td>3817</td>\n",
       "      <td>45.700186</td>\n",
       "      <td>31.650</td>\n",
       "      <td>0.15</td>\n",
       "      <td>161.32</td>\n",
       "    </tr>\n",
       "  </tbody>\n",
       "</table>\n",
       "</div>"
      ],
      "text/plain": [
       "                   Recency                          Frequency             \\\n",
       "                     count      mean median min max     count       mean   \n",
       "rfm_segment                                                                \n",
       "Best Customer         2834  4.617502      4   2  18      2834  10.261468   \n",
       "High value            4737  0.820562      1   0   2      4737  13.147351   \n",
       "Low Value Customer    3104  0.932023      1   0   2      3104   5.352771   \n",
       "New Customer          3817  6.746660      6   3  29      3817   4.187058   \n",
       "\n",
       "                                  Monetary                              \\\n",
       "                   median min max    count        mean   median    min   \n",
       "rfm_segment                                                              \n",
       "Best Customer           9   2  29     2834  182.969012  155.475  18.91   \n",
       "High value             12   6  36     4737  178.605651  159.380  15.29   \n",
       "Low Value Customer      5   1  11     3104   63.117152   42.470   0.47   \n",
       "New Customer            4   1  11     3817   45.700186   31.650   0.15   \n",
       "\n",
       "                             \n",
       "                        max  \n",
       "rfm_segment                  \n",
       "Best Customer       1327.74  \n",
       "High value          1608.69  \n",
       "Low Value Customer  1153.11  \n",
       "New Customer         161.32  "
      ]
     },
     "execution_count": 80,
     "metadata": {},
     "output_type": "execute_result"
    }
   ],
   "source": [
    "rfm_df.groupby('rfm_segment').agg({\n",
    "    'Recency': ['count','mean', 'median','min','max'],\n",
    "    'Frequency': ['count','mean', 'median','min', 'max'],\n",
    "    'Monetary': ['count','mean', 'median','min', 'max']\n",
    "})"
   ]
  },
  {
   "cell_type": "code",
   "execution_count": 81,
   "id": "baee1497",
   "metadata": {},
   "outputs": [
    {
     "data": {
      "text/html": [
       "<div>\n",
       "<style scoped>\n",
       "    .dataframe tbody tr th:only-of-type {\n",
       "        vertical-align: middle;\n",
       "    }\n",
       "\n",
       "    .dataframe tbody tr th {\n",
       "        vertical-align: top;\n",
       "    }\n",
       "\n",
       "    .dataframe thead th {\n",
       "        text-align: right;\n",
       "    }\n",
       "</style>\n",
       "<table border=\"1\" class=\"dataframe\">\n",
       "  <thead>\n",
       "    <tr style=\"text-align: right;\">\n",
       "      <th></th>\n",
       "      <th>customer_id</th>\n",
       "      <th>Recency</th>\n",
       "      <th>Frequency</th>\n",
       "      <th>Monetary</th>\n",
       "      <th>r_score</th>\n",
       "      <th>f_score</th>\n",
       "      <th>m_score</th>\n",
       "      <th>rfm_segment</th>\n",
       "      <th>rfm_cluster</th>\n",
       "    </tr>\n",
       "  </thead>\n",
       "  <tbody>\n",
       "    <tr>\n",
       "      <th>6887</th>\n",
       "      <td>79d9d4f86aca4bed9290350fb43817c2</td>\n",
       "      <td>0</td>\n",
       "      <td>36</td>\n",
       "      <td>173.41</td>\n",
       "      <td>4</td>\n",
       "      <td>4</td>\n",
       "      <td>4</td>\n",
       "      <td>High value</td>\n",
       "      <td>0</td>\n",
       "    </tr>\n",
       "    <tr>\n",
       "      <th>8472</th>\n",
       "      <td>94de646f7b6041228ca7dec82adb97d2</td>\n",
       "      <td>0</td>\n",
       "      <td>35</td>\n",
       "      <td>90.23</td>\n",
       "      <td>4</td>\n",
       "      <td>4</td>\n",
       "      <td>3</td>\n",
       "      <td>High value</td>\n",
       "      <td>0</td>\n",
       "    </tr>\n",
       "    <tr>\n",
       "      <th>9377</th>\n",
       "      <td>a42ed50acc4d4b25bca647c9e0b916ad</td>\n",
       "      <td>0</td>\n",
       "      <td>31</td>\n",
       "      <td>461.09</td>\n",
       "      <td>4</td>\n",
       "      <td>4</td>\n",
       "      <td>4</td>\n",
       "      <td>High value</td>\n",
       "      <td>0</td>\n",
       "    </tr>\n",
       "    <tr>\n",
       "      <th>9774</th>\n",
       "      <td>ab25fd6fbd5040f880751921e4029757</td>\n",
       "      <td>0</td>\n",
       "      <td>30</td>\n",
       "      <td>717.21</td>\n",
       "      <td>4</td>\n",
       "      <td>4</td>\n",
       "      <td>4</td>\n",
       "      <td>High value</td>\n",
       "      <td>0</td>\n",
       "    </tr>\n",
       "    <tr>\n",
       "      <th>11825</th>\n",
       "      <td>d0a80415b84c4df4908b8403b19765e3</td>\n",
       "      <td>0</td>\n",
       "      <td>30</td>\n",
       "      <td>260.69</td>\n",
       "      <td>4</td>\n",
       "      <td>4</td>\n",
       "      <td>4</td>\n",
       "      <td>High value</td>\n",
       "      <td>0</td>\n",
       "    </tr>\n",
       "  </tbody>\n",
       "</table>\n",
       "</div>"
      ],
      "text/plain": [
       "                            customer_id  Recency  Frequency  Monetary  \\\n",
       "6887   79d9d4f86aca4bed9290350fb43817c2        0         36    173.41   \n",
       "8472   94de646f7b6041228ca7dec82adb97d2        0         35     90.23   \n",
       "9377   a42ed50acc4d4b25bca647c9e0b916ad        0         31    461.09   \n",
       "9774   ab25fd6fbd5040f880751921e4029757        0         30    717.21   \n",
       "11825  d0a80415b84c4df4908b8403b19765e3        0         30    260.69   \n",
       "\n",
       "       r_score  f_score  m_score rfm_segment  rfm_cluster  \n",
       "6887         4        4        4  High value            0  \n",
       "8472         4        4        3  High value            0  \n",
       "9377         4        4        4  High value            0  \n",
       "9774         4        4        4  High value            0  \n",
       "11825        4        4        4  High value            0  "
      ]
     },
     "execution_count": 81,
     "metadata": {},
     "output_type": "execute_result"
    }
   ],
   "source": [
    "rfm_df.head()"
   ]
  },
  {
   "cell_type": "code",
   "execution_count": 82,
   "id": "68749190",
   "metadata": {},
   "outputs": [
    {
     "data": {
      "image/png": "[encoded data removed]",
      "text/plain": [
       "<Figure size 720x432 with 1 Axes>"
      ]
     },
     "metadata": {},
     "output_type": "display_data"
    }
   ],
   "source": [
    "import matplotlib.pyplot as plt\n",
    "import numpy as np\n",
    "\n",
    "segment_counts = rfm_df['rfm_segment'].value_counts()\n",
    "\n",
    "fig, ax = plt.subplots(figsize=(10, 6))\n",
    "\n",
    "x = np.arange(len(segment_counts))\n",
    "bar_width = 0.7\n",
    "\n",
    "bars = ax.bar(x, segment_counts.values, width=bar_width)\n",
    "\n",
    "ax.set_title('Comparison of RFM Segments', fontsize=16)\n",
    "ax.set_xlabel('RFM Segments', fontsize=14)\n",
    "ax.set_ylabel('Number of Customers', fontsize=14)\n",
    "ax.set_xticks(x)\n",
    "ax.set_xticklabels(segment_counts.index, rotation=45, ha=\"right\")\n",
    "ax.grid(axis='y', linestyle='--', alpha=0.7)\n",
    "\n",
    "# Display percentage values on top of the bars\n",
    "for bar in bars:\n",
    "    height = bar.get_height()\n",
    "    ax.annotate(f'{height / segment_counts.sum() * 100:.1f}%',\n",
    "                xy=(bar.get_x() + bar.get_width() / 2, height),\n",
    "                xytext=(0, 3),  # 3 points vertical offset\n",
    "                textcoords=\"offset points\",\n",
    "                ha='center', va='bottom', fontsize=12)\n",
    "plt.grid(False)\n",
    "ax = plt.gca()\n",
    "ax.spines['right'].set_visible(False)\n",
    "ax.spines['top'].set_visible(False)\n",
    "ax.spines['left'].set_visible(False)\n",
    "ax.spines['bottom'].set_visible(False)\n",
    "plt.show()\n"
   ]
  },
  {
   "cell_type": "code",
   "execution_count": 83,
   "id": "bf2c40e0",
   "metadata": {},
   "outputs": [],
   "source": [
    "rfm_analysis = pd.merge(profile_offer, rfm_df, left_on='customer_id', right_on='customer_id', how='inner')"
   ]
  },
  {
   "cell_type": "code",
   "execution_count": 84,
   "id": "11e23e41",
   "metadata": {},
   "outputs": [
    {
     "data": {
      "text/html": [
       "<div>\n",
       "<style scoped>\n",
       "    .dataframe tbody tr th:only-of-type {\n",
       "        vertical-align: middle;\n",
       "    }\n",
       "\n",
       "    .dataframe tbody tr th {\n",
       "        vertical-align: top;\n",
       "    }\n",
       "\n",
       "    .dataframe thead th {\n",
       "        text-align: right;\n",
       "    }\n",
       "</style>\n",
       "<table border=\"1\" class=\"dataframe\">\n",
       "  <thead>\n",
       "    <tr style=\"text-align: right;\">\n",
       "      <th></th>\n",
       "      <th>customer_id</th>\n",
       "      <th>gender</th>\n",
       "      <th>age</th>\n",
       "      <th>age_group</th>\n",
       "      <th>customer_income</th>\n",
       "      <th>customer_income_range</th>\n",
       "      <th>became_member_on</th>\n",
       "      <th>year_joined</th>\n",
       "      <th>gender_F</th>\n",
       "      <th>gender_M</th>\n",
       "      <th>...</th>\n",
       "      <th>web_viewed_rate</th>\n",
       "      <th>web_completed_rate</th>\n",
       "      <th>Recency</th>\n",
       "      <th>Frequency</th>\n",
       "      <th>Monetary</th>\n",
       "      <th>r_score</th>\n",
       "      <th>f_score</th>\n",
       "      <th>m_score</th>\n",
       "      <th>rfm_segment</th>\n",
       "      <th>rfm_cluster</th>\n",
       "    </tr>\n",
       "  </thead>\n",
       "  <tbody>\n",
       "    <tr>\n",
       "      <th>0</th>\n",
       "      <td>0610b486422d4921ae7d2bf64640c50b</td>\n",
       "      <td>F</td>\n",
       "      <td>55</td>\n",
       "      <td>44-56</td>\n",
       "      <td>112000.0</td>\n",
       "      <td>&gt;$100K</td>\n",
       "      <td>2017-07-15</td>\n",
       "      <td>2017</td>\n",
       "      <td>1</td>\n",
       "      <td>0</td>\n",
       "      <td>...</td>\n",
       "      <td>0.0</td>\n",
       "      <td>1.000000</td>\n",
       "      <td>7</td>\n",
       "      <td>3</td>\n",
       "      <td>77.01</td>\n",
       "      <td>1</td>\n",
       "      <td>1</td>\n",
       "      <td>2</td>\n",
       "      <td>New Customer</td>\n",
       "      <td>1</td>\n",
       "    </tr>\n",
       "    <tr>\n",
       "      <th>1</th>\n",
       "      <td>78afa995795e4d85b5d9ceeca43f5fef</td>\n",
       "      <td>F</td>\n",
       "      <td>75</td>\n",
       "      <td>57-75</td>\n",
       "      <td>100000.0</td>\n",
       "      <td>&gt;$100K</td>\n",
       "      <td>2017-05-09</td>\n",
       "      <td>2017</td>\n",
       "      <td>1</td>\n",
       "      <td>0</td>\n",
       "      <td>...</td>\n",
       "      <td>1.0</td>\n",
       "      <td>1.000000</td>\n",
       "      <td>7</td>\n",
       "      <td>7</td>\n",
       "      <td>159.27</td>\n",
       "      <td>1</td>\n",
       "      <td>2</td>\n",
       "      <td>3</td>\n",
       "      <td>Best Customer</td>\n",
       "      <td>2</td>\n",
       "    </tr>\n",
       "    <tr>\n",
       "      <th>2</th>\n",
       "      <td>e2127556f4f64592b11af22de27a7932</td>\n",
       "      <td>M</td>\n",
       "      <td>68</td>\n",
       "      <td>57-75</td>\n",
       "      <td>70000.0</td>\n",
       "      <td>$(50,000-74,999)</td>\n",
       "      <td>2018-04-26</td>\n",
       "      <td>2018</td>\n",
       "      <td>0</td>\n",
       "      <td>1</td>\n",
       "      <td>...</td>\n",
       "      <td>1.0</td>\n",
       "      <td>0.666667</td>\n",
       "      <td>8</td>\n",
       "      <td>3</td>\n",
       "      <td>57.73</td>\n",
       "      <td>1</td>\n",
       "      <td>1</td>\n",
       "      <td>2</td>\n",
       "      <td>New Customer</td>\n",
       "      <td>1</td>\n",
       "    </tr>\n",
       "    <tr>\n",
       "      <th>3</th>\n",
       "      <td>389bc3fa690240e798340f5a15918d5c</td>\n",
       "      <td>M</td>\n",
       "      <td>65</td>\n",
       "      <td>57-75</td>\n",
       "      <td>53000.0</td>\n",
       "      <td>$(50,000-74,999)</td>\n",
       "      <td>2018-02-09</td>\n",
       "      <td>2018</td>\n",
       "      <td>0</td>\n",
       "      <td>1</td>\n",
       "      <td>...</td>\n",
       "      <td>1.0</td>\n",
       "      <td>0.833333</td>\n",
       "      <td>4</td>\n",
       "      <td>3</td>\n",
       "      <td>36.43</td>\n",
       "      <td>2</td>\n",
       "      <td>1</td>\n",
       "      <td>2</td>\n",
       "      <td>New Customer</td>\n",
       "      <td>1</td>\n",
       "    </tr>\n",
       "    <tr>\n",
       "      <th>4</th>\n",
       "      <td>2eeac8d8feae4a8cad5a6af0499a211d</td>\n",
       "      <td>M</td>\n",
       "      <td>58</td>\n",
       "      <td>57-75</td>\n",
       "      <td>51000.0</td>\n",
       "      <td>$(50,000-74,999)</td>\n",
       "      <td>2017-11-11</td>\n",
       "      <td>2017</td>\n",
       "      <td>0</td>\n",
       "      <td>1</td>\n",
       "      <td>...</td>\n",
       "      <td>1.0</td>\n",
       "      <td>0.500000</td>\n",
       "      <td>6</td>\n",
       "      <td>4</td>\n",
       "      <td>15.62</td>\n",
       "      <td>1</td>\n",
       "      <td>1</td>\n",
       "      <td>1</td>\n",
       "      <td>New Customer</td>\n",
       "      <td>1</td>\n",
       "    </tr>\n",
       "  </tbody>\n",
       "</table>\n",
       "<p>5 rows × 190 columns</p>\n",
       "</div>"
      ],
      "text/plain": [
       "                        customer_id gender  age age_group  customer_income  \\\n",
       "0  0610b486422d4921ae7d2bf64640c50b      F   55     44-56         112000.0   \n",
       "1  78afa995795e4d85b5d9ceeca43f5fef      F   75     57-75         100000.0   \n",
       "2  e2127556f4f64592b11af22de27a7932      M   68     57-75          70000.0   \n",
       "3  389bc3fa690240e798340f5a15918d5c      M   65     57-75          53000.0   \n",
       "4  2eeac8d8feae4a8cad5a6af0499a211d      M   58     57-75          51000.0   \n",
       "\n",
       "  customer_income_range became_member_on  year_joined  gender_F  gender_M  \\\n",
       "0                >$100K       2017-07-15         2017         1         0   \n",
       "1                >$100K       2017-05-09         2017         1         0   \n",
       "2      $(50,000-74,999)       2018-04-26         2018         0         1   \n",
       "3      $(50,000-74,999)       2018-02-09         2018         0         1   \n",
       "4      $(50,000-74,999)       2017-11-11         2017         0         1   \n",
       "\n",
       "   ...  web_viewed_rate  web_completed_rate  Recency  Frequency  Monetary  \\\n",
       "0  ...              0.0            1.000000        7          3     77.01   \n",
       "1  ...              1.0            1.000000        7          7    159.27   \n",
       "2  ...              1.0            0.666667        8          3     57.73   \n",
       "3  ...              1.0            0.833333        4          3     36.43   \n",
       "4  ...              1.0            0.500000        6          4     15.62   \n",
       "\n",
       "   r_score  f_score  m_score    rfm_segment  rfm_cluster  \n",
       "0        1        1        2   New Customer            1  \n",
       "1        1        2        3  Best Customer            2  \n",
       "2        1        1        2   New Customer            1  \n",
       "3        2        1        2   New Customer            1  \n",
       "4        1        1        1   New Customer            1  \n",
       "\n",
       "[5 rows x 190 columns]"
      ]
     },
     "execution_count": 84,
     "metadata": {},
     "output_type": "execute_result"
    }
   ],
   "source": [
    "rfm_analysis.head()"
   ]
  },
  {
   "cell_type": "code",
   "execution_count": 85,
   "id": "67673f65",
   "metadata": {},
   "outputs": [],
   "source": [
    "#Create dummy variables for the RFM segments\n",
    "rfm_dummies = pd.get_dummies(rfm_analysis['rfm_segment'])\n",
    "rfm_analysis = rfm_analysis.join(rfm_dummies)"
   ]
  },
  {
   "cell_type": "code",
   "execution_count": 86,
   "id": "83acc40f",
   "metadata": {},
   "outputs": [],
   "source": [
    "rfm_segment= rfm_analysis[['customer_id','High value','New Customer','Best Customer','Low Value Customer']]"
   ]
  },
  {
   "cell_type": "code",
   "execution_count": 87,
   "id": "0951a653",
   "metadata": {},
   "outputs": [],
   "source": [
    "def plot_data(df,demo,groupby,col_wrap,height,label_rotation):\n",
    "    \n",
    "   \n",
    "    \n",
    "    #Aggrigate measure(sum) grouped by demographics \n",
    "    df = df.join(demo[groupby])\n",
    "    df = df.copy().reset_index()\n",
    "    df = df.melt(id_vars=['customer_id', groupby],ignore_index = True)\n",
    "    df = df.groupby([groupby, 'variable']).mean().reset_index()\n",
    "    df = df[df['variable']!='index']\n",
    "  \n",
    "   \n",
    "   \n",
    "    g = sns.FacetGrid(df, col='variable', hue= groupby, col_wrap=col_wrap, height=height, sharey=False)\n",
    "    g = g.map(plt.bar, groupby, 'value').set_titles(\"{col_name}\")\n",
    "    g.set_xticklabels(rotation = label_rotation)\n",
    "    g.tight_layout()\n",
    "    \n",
    "    \n",
    "\n",
    "    #Return aggregate data grouped by demographic variable entered in 'groupby'\n",
    "    return df\n",
    "\n"
   ]
  },
  {
   "cell_type": "markdown",
   "id": "8fe2770f",
   "metadata": {},
   "source": [
    "## Visualize RFM Segments "
   ]
  },
  {
   "cell_type": "code",
   "execution_count": 88,
   "id": "8903fa62",
   "metadata": {},
   "outputs": [
    {
     "data": {
      "image/png": "[encoded data removed]",
      "text/plain": [
       "<Figure size 1440x288 with 3 Axes>"
      ]
     },
     "metadata": {},
     "output_type": "display_data"
    }
   ],
   "source": [
    "#Visualize the mean Frequency, Monetary, and Recency value across each RFM segments\n",
    "\n",
    "rfm_da= rfm_df[['customer_id','Recency','Frequency','Monetary']]\n",
    "df = plot_data(rfm_da,rfm_df,  groupby = 'rfm_segment',col_wrap=5,height=4,label_rotation =30)"
   ]
  },
  {
   "cell_type": "code",
   "execution_count": 89,
   "id": "8382dbc7",
   "metadata": {},
   "outputs": [
    {
     "data": {
      "image/png": "[encoded data removed]",
      "text/plain": [
       "<Figure size 1440x288 with 3 Axes>"
      ]
     },
     "metadata": {},
     "output_type": "display_data"
    }
   ],
   "source": [
    "rfm_gender = rfm_analysis[['customer_id','gender_M','gender_F',\"gender_O\"]]\n",
    "df = plot_data(rfm_gender,rfm_analysis,  groupby = 'rfm_segment',col_wrap=5,height=4,label_rotation =30)"
   ]
  },
  {
   "cell_type": "code",
   "execution_count": 90,
   "id": "2cc2827d",
   "metadata": {},
   "outputs": [
    {
     "data": {
      "image/png": "[encoded data removed]",
      "text/plain": [
       "<Figure size 648x432 with 6 Axes>"
      ]
     },
     "metadata": {},
     "output_type": "display_data"
    }
   ],
   "source": [
    "rfm_age= rfm_analysis[['customer_id', 'age','18–25','26-43','44-56','57-75','76+']]\n",
    "df = plot_data(rfm_age,rfm_analysis,  groupby = 'rfm_segment',col_wrap=3,height=3,label_rotation =30)"
   ]
  },
  {
   "cell_type": "code",
   "execution_count": 91,
   "id": "731932a8",
   "metadata": {},
   "outputs": [
    {
     "data": {
      "image/png": "[encoded data removed]",
      "text/plain": [
       "<Figure size 1080x720 with 5 Axes>"
      ]
     },
     "metadata": {},
     "output_type": "display_data"
    }
   ],
   "source": [
    "rfm_income_range = rfm_analysis[['customer_id','customer_income', '<$50K','$(50,000-74,999)','$(75,000-99,999)', '>$100K']]\n",
    "df = plot_data(rfm_income_range,rfm_analysis,  groupby = 'rfm_segment',col_wrap=3,height=5,label_rotation =30)"
   ]
  },
  {
   "cell_type": "code",
   "execution_count": 92,
   "id": "59995655",
   "metadata": {},
   "outputs": [
    {
     "data": {
      "image/png": "[encoded data removed]",
      "text/plain": [
       "<Figure size 648x432 with 6 Axes>"
      ]
     },
     "metadata": {},
     "output_type": "display_data"
    }
   ],
   "source": [
    "rfm_year = rfm_analysis[['customer_id',2013, 2014, 2015, 2016, 2017, 2018]]\n",
    "df = plot_data(rfm_year,rfm_analysis,  groupby = 'rfm_segment',col_wrap=3,height=3,label_rotation =30)"
   ]
  },
  {
   "cell_type": "code",
   "execution_count": 93,
   "id": "296a763d",
   "metadata": {},
   "outputs": [
    {
     "data": {
      "image/png": "[encoded data removed]",
      "text/plain": [
       "<Figure size 1800x360 with 4 Axes>"
      ]
     },
     "metadata": {},
     "output_type": "display_data"
    }
   ],
   "source": [
    "offer_bogo = rfm_analysis[['customer_id','bogo_viewed_count','bogo_completed_count','bogo_viewed_rate','bogo_completed_rate']]\n",
    "df = plot_data(offer_bogo,rfm_analysis,  groupby = 'rfm_segment',col_wrap=5,height=5,label_rotation =30)"
   ]
  },
  {
   "cell_type": "code",
   "execution_count": 94,
   "id": "22444ce9",
   "metadata": {},
   "outputs": [
    {
     "data": {
      "image/png": "[encoded data removed]",
      "text/plain": [
       "<Figure size 1440x360 with 4 Axes>"
      ]
     },
     "metadata": {},
     "output_type": "display_data"
    }
   ],
   "source": [
    "offer_discount = rfm_analysis[['customer_id','discount_viewed_count','discount_completed_count','discount_viewed_rate','discount_completed_rate']]\n",
    "df = plot_data( offer_discount,rfm_analysis,  groupby = 'rfm_segment',col_wrap=4,height=5,label_rotation =30)"
   ]
  },
  {
   "cell_type": "code",
   "execution_count": 95,
   "id": "07eb1cdf",
   "metadata": {},
   "outputs": [
    {
     "data": {
      "image/png": "[encoded data removed]",
      "text/plain": [
       "<Figure size 1440x288 with 3 Axes>"
      ]
     },
     "metadata": {},
     "output_type": "display_data"
    }
   ],
   "source": [
    "offer_informational = rfm_analysis[['customer_id','informational_received_count','informational_viewed_count','informational_viewed_rate']]\n",
    "df = plot_data(offer_informational,rfm_analysis,  groupby = 'rfm_segment',col_wrap=5,height=4,label_rotation =30)"
   ]
  },
  {
   "cell_type": "code",
   "execution_count": 96,
   "id": "1dbd5951",
   "metadata": {},
   "outputs": [
    {
     "data": {
      "image/png": "[encoded data removed]",
      "text/plain": [
       "<Figure size 1728x432 with 4 Axes>"
      ]
     },
     "metadata": {},
     "output_type": "display_data"
    }
   ],
   "source": [
    "offer_difficulty =  rfm_analysis[['customer_id','offer_difficulty_5_completed_rate',\n",
    " 'offer_difficulty_20_completed_rate','offer_difficulty_10_completed_rate', 'offer_difficulty_7_completed_rate']]\n",
    "df = plot_data(offer_difficulty ,rfm_analysis,   groupby = 'rfm_segment',col_wrap=4,height=6,label_rotation =30)"
   ]
  },
  {
   "cell_type": "code",
   "execution_count": 97,
   "id": "fa6ed0fd",
   "metadata": {},
   "outputs": [
    {
     "data": {
      "image/png": "[encoded data removed]",
      "text/plain": [
       "<Figure size 648x432 with 6 Axes>"
      ]
     },
     "metadata": {},
     "output_type": "display_data"
    }
   ],
   "source": [
    "offer_duration =  rfm_analysis[['customer_id', 'offer_duration_7_viewed_rate', 'offer_duration_7_completed_rate',\n",
    " 'offer_duration_10_viewed_rate', 'offer_duration_10_completed_rate','offer_duration_5_viewed_rate',\n",
    " 'offer_duration_5_completed_rate']]\n",
    "df = plot_data(offer_duration ,rfm_analysis,  groupby = 'rfm_segment',col_wrap=3,height=3,label_rotation =30)"
   ]
  },
  {
   "cell_type": "code",
   "execution_count": 98,
   "id": "7b71ba8e",
   "metadata": {},
   "outputs": [
    {
     "data": {
      "image/png": "[encoded data removed]",
      "text/plain": [
       "<Figure size 864x432 with 8 Axes>"
      ]
     },
     "metadata": {},
     "output_type": "display_data"
    }
   ],
   "source": [
    "offer_reward =  rfm_analysis[['customer_id','offer_reward_2_viewed_rate','offer_reward_2_completed_rate',\n",
    " 'offer_reward_3_viewed_rate','offer_reward_3_completed_rate','offer_reward_5_viewed_rate',\n",
    " 'offer_reward_5_completed_rate','offer_reward_10_viewed_rate','offer_reward_10_completed_rate']]\n",
    "\n",
    "df = plot_data(offer_reward ,rfm_analysis,   groupby = 'rfm_segment',col_wrap=4,height=3,label_rotation =30)\n"
   ]
  },
  {
   "cell_type": "code",
   "execution_count": 99,
   "id": "5fe23dd9",
   "metadata": {},
   "outputs": [
    {
     "data": {
      "image/png": "[encoded data removed]",
      "text/plain": [
       "<Figure size 864x432 with 6 Axes>"
      ]
     },
     "metadata": {},
     "output_type": "display_data"
    }
   ],
   "source": [
    "channel_completed =  rfm_analysis[['customer_id', 'mobile_completed_rate', 'social_completed_rate',\n",
    " 'web_completed_rate','mobile_viewed_rate','social_viewed_rate', 'web_viewed_rate']]\n",
    "df = plot_data(channel_completed ,rfm_analysis,  groupby = 'rfm_segment',col_wrap=4,height=3,label_rotation =30)"
   ]
  },
  {
   "cell_type": "markdown",
   "id": "808dbf71",
   "metadata": {},
   "source": [
    "## RFM Segment 1: Best Customer\n",
    "\n",
    "This segment consists of frequent customers who engage in substantial spending and have made recent purchases.\n",
    "\n",
    "In terms of gender, age, and income distribution, this segment mirrors the overall sample.\n",
    "While their average income is slightly lower than other segments, it remains considerable.\n",
    "A significant number of customers in this segment joined the app during 2016 and 2017, with the highest concentration joining between 2013 and 2015.\n",
    "Notably, this segment boasts the highest proportion of individuals belonging to Generation Z and Millennials.\n",
    "\n",
    "Offers yield remarkable results with this group, exhibiting high view and completion rates across various offer characteristics such as categories, difficulty levels, durations, and rewards.\n",
    "\n",
    "## RFM Segment 2: High Value\n",
    "\n",
    "In this segment, you'll find customers who are frequent spenders, although it has been a significant duration since their last transaction.\n",
    "\n",
    "\n",
    "The age and income distribution of this segment aligns with the overall sample.\n",
    "An almost equal number of male and female customers are present. Additionally, this segment showcases the highest proportion of females and those identifying as 'Others' compared to other segments.\n",
    "While the average age is comparable to other segments, it's noteworthy that this group has the highest proportion of individuals falling into the GenX category and the least proportion of GenZ customers.\n",
    "This segment boasts the highest average income among all segments. Furthermore, it has the largest representation of individuals earning above 75k and the least representation of those earning under $50k.\n",
    "Most of the customers in this segment joined the app during 2016 and 2017, with the majority joining in 2016.\n",
    "\n",
    "Overall, offers show solid performance within this segment, closely rivaling the performance in the 'Best Customers' segment.\n",
    "Particularly notable is their slightly superior performance in areas such as BOGO offers, offers with a difficulty level of 10, a duration of 5, and a reward of 10.\n",
    "\n",
    "## RFM Segment 3: Lost Customer\n",
    "\n",
    "This segment comprises customers who infrequently make purchases, spend minimally, and haven't engaged in recent transactions.\n",
    "\n",
    "Gender, age, and income distribution aligns with the overall sample.\n",
    "Notably, there is a significantly higher representation of males and a lower representation of females within this segment compared to the overall sample.\n",
    "This segment encompasses a relatively high proportion of individuals categorized as Boomers and Matures.\n",
    "Interestingly, a substantial proportion of high-income customers are part of this segment.\n",
    "The majority of customers in this segment joined the app between 2017 and 2018, with the smallest portion having joined between 2013 and 2016.\n",
    "\n",
    "As anticipated, this segment demonstrates inferior performance across all offer categories.\n",
    "While customers in this segment tend to view a substantial number of the offers sent to them, the conversion rates for these offers remain notably lower.\n",
    "\n",
    "## RFM Segment 4: New Customers\n",
    "\n",
    "Within this segment, you'll find customers who are recent shoppers, displaying a low frequency of purchases and smaller transaction amounts.\n",
    "\n",
    "Gender, age, and income distribution align with the overall sample.\n",
    "This segment includes the highest proportion of male customers and the lowest proportion of females within the entire sample.\n",
    "A notable characteristic of this segment is the highest representation of individuals earning less than 50k.\n",
    "The majority of customers in this segment joined the app during 2017 and 2018.\n",
    "\n",
    "Due to their recent arrival, new customers exhibit relatively modest offer performance.\n",
    "Nevertheless, their performance consistently surpasses that of the Low Value segment."
   ]
  }
 ],
 "metadata": {
  "kernelspec": {
   "display_name": "Python 3",
   "language": "python",
   "name": "python3"
  },
  "language_info": {
   "codemirror_mode": {
    "name": "ipython",
    "version": 3
   },
   "file_extension": ".py",
   "mimetype": "text/x-python",
   "name": "python",
   "nbconvert_exporter": "python",
   "pygments_lexer": "ipython3",
   "version": "3.9.5"
  }
 },
 "nbformat": 4,
 "nbformat_minor": 5
}
